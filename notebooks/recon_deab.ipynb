{
 "cells": [
  {
   "cell_type": "code",
   "execution_count": null,
   "metadata": {},
   "outputs": [],
   "source": [
    "%load_ext autoreload\n",
    "%autoreload 2"
   ]
  },
  {
   "cell_type": "code",
   "execution_count": null,
   "metadata": {},
   "outputs": [],
   "source": [
    "import numpy as np\n",
    "import jax.numpy as jnp\n",
    "import matplotlib.pyplot as plt\n",
    "\n",
    "from jax.lib import xla_bridge\n",
    "print(f\"Jax is using: {xla_bridge.get_backend().platform}\")\n",
    "\n",
    "import sys\n",
    "sys.path.append('../')"
   ]
  },
  {
   "cell_type": "markdown",
   "metadata": {},
   "source": [
    "# Load data"
   ]
  },
  {
   "cell_type": "code",
   "execution_count": null,
   "metadata": {},
   "outputs": [],
   "source": [
    "import scipy\n",
    "# mat = scipy.io.loadmat('../data/1_48_flash_deab_lens_plastic_25.mat')\n",
    "# mat = scipy.io.loadmat('../data/1_48_flash_deab_lens_25.mat')\n",
    "mat = scipy.io.loadmat('../data/1_48_flash_deab_25.mat')"
   ]
  },
  {
   "cell_type": "code",
   "execution_count": null,
   "metadata": {},
   "outputs": [],
   "source": [
    "# define linear ultrasound transducer (P4-1)\n",
    "nelements = mat['Trans']['numelements'][0,0][0,0] # number of transducer elements\n",
    "element_pitch = mat['Trans']['spacingMm'][0,0][0,0]*1e-3 # distance between transducer elements\n",
    "transducer_extent = (nelements - 1) * element_pitch # length of the transducer [m]\n",
    "transducer_frequency = mat['Trans']['frequency'][0,0][0,0] * 1e6 # frequency of the transducer [Hz]\n",
    "print(f\"Transducer extent: {transducer_extent:.3f} m\")"
   ]
  },
  {
   "cell_type": "code",
   "execution_count": null,
   "metadata": {},
   "outputs": [],
   "source": [
    "apertureES = np.squeeze(mat['Trans']['HVMux'][0,0]['ApertureES'][0,0])\n",
    "apertureES = (apertureES[apertureES != 0] - 1)\n",
    "apertureES"
   ]
  },
  {
   "cell_type": "code",
   "execution_count": null,
   "metadata": {},
   "outputs": [],
   "source": [
    "dt_rf = 1/(transducer_frequency * mat['Receive']['samplesPerWave'][0,0][0,0])\n",
    "raw_rf_data = mat['RcvData'][0,0]\n",
    "raw_rf_data = raw_rf_data[:,apertureES,:]\n",
    "raw_rf_data.shape"
   ]
  },
  {
   "cell_type": "markdown",
   "metadata": {},
   "source": [
    "# Setup"
   ]
  },
  {
   "cell_type": "code",
   "execution_count": null,
   "metadata": {},
   "outputs": [],
   "source": [
    "from jwave_utils import get_domain\n",
    "\n",
    "# define spatial parameters\n",
    "N = np.array([256, 256]).astype(int) # grid size [grid points]\n",
    "dx = np.array([element_pitch, element_pitch]) # grid spacing [m]\n",
    "pml = np.array([20, 20]) # size of the perfectly matched layer [grid points]\n",
    "\n",
    "domain = get_domain(N, dx)"
   ]
  },
  {
   "cell_type": "code",
   "execution_count": null,
   "metadata": {},
   "outputs": [],
   "source": [
    "# define transducer position in domain\n",
    "transducer_depth = pml[1] # depth of the transducer [grid points]\n",
    "transducer_x_start = N[0]//2 - nelements//2 # start index of the transducer in the x-direction [grid points]\n",
    "element_positions = np.array([\n",
    "    np.linspace(transducer_x_start, transducer_x_start + nelements - 1, nelements),\n",
    "    (N[1] - transducer_depth) * np.ones(nelements),\n",
    "], dtype=int)\n",
    "\n",
    "# filter for active transducers\n",
    "nactive_elements = 48\n",
    "start_elem_idx = 35\n",
    "# element_positions = element_positions[:,:48]\n",
    "# element_positions = element_positions[:,48:]\n",
    "# element_positions = element_positions[:,start_elem_idx:start_elem_idx+nactive_elements]\n",
    "# element_positions = element_positions[:,apertureES]\n",
    "\n",
    "new_apertureES = (nelements - 1) - apertureES\n",
    "element_positions = element_positions[:,new_apertureES]\n",
    "\n",
    "element_positions   "
   ]
  },
  {
   "cell_type": "code",
   "execution_count": null,
   "metadata": {},
   "outputs": [],
   "source": [
    "# skull_thickness = round(6e-3 / dx[0]) # [gridpoints]\n",
    "# skull_distance_from_transducer = round(10e-3 / dx[0]) # [gridpoints]\n",
    "# regions = np.zeros(N)\n",
    "# skull_start_y = element_positions[1][0] - skull_distance_from_transducer\n",
    "# # regions[:, skull_start_y - skull_thickness:skull_start_y] = 1\n",
    "\n",
    "# x = np.linspace(0, N[0] * dx[0], N[0])\n",
    "# frequency = 1 / 0.015\n",
    "# amplitude = 2e-3\n",
    "# offset = 0e-3 \n",
    "# phase_shift = 2 * np.pi * frequency * (N[0]//2 * dx[0])\n",
    "# squiggle = amplitude * np.sin(2 * np.pi * frequency * x + phase_shift) + offset\n",
    "\n",
    "# squiggle_grid_points = np.round(squiggle / dx[0]).astype(int)\n",
    "# for i in range(N[0]):\n",
    "#     y_start = skull_start_y - skull_thickness - squiggle_grid_points[i]\n",
    "#     regions[i, y_start:skull_start_y] = 1"
   ]
  },
  {
   "cell_type": "code",
   "execution_count": null,
   "metadata": {},
   "outputs": [],
   "source": [
    "skull_distance_from_transducer = round(10e-3 / dx[0]) # [gridpoints]\n",
    "skull_start_y = element_positions[1][0] - skull_distance_from_transducer\n",
    "skull_thickness = round(4e-3 / dx[0]) # [gridpoints]\n",
    "\n",
    "circle_radius = round(4.516e-3 / dx[0])\n",
    "circle1_from_skull = round(1.484e-3 / dx[0])\n",
    "circle2_from_skull = round(6.516e-3 / dx[0])\n",
    "circle_separation_x = round(7.5e-3 / dx[0])\n",
    "circle_separation_y = round(5.031e-3 / dx[0])\n",
    "\n",
    "regions = np.zeros(N, dtype=np.int_)\n",
    "regions[:, skull_start_y - skull_thickness:skull_start_y] = 1\n",
    "\n",
    "y, x = np.meshgrid(np.arange(N[0]), np.arange(N[1]))\n",
    "\n",
    "for i in range(3):\n",
    "    circle1_cond = (x - (N[0]//2 - circle_radius + 2*i*circle_separation_x))**2 + (y - (skull_start_y - circle1_from_skull))**2 < circle_radius**2\n",
    "    circle2_cond = (x - (N[0]//2 - circle_radius + (2*i+1)*circle_separation_x))**2 + (y - (skull_start_y - circle2_from_skull))**2 < circle_radius**2\n",
    "    regions[circle1_cond] = 1\n",
    "    regions[circle2_cond] = 0\n",
    "\n",
    "for i in range(3):\n",
    "    circle1_cond = (x - (N[0]//2 - circle_radius - 2*i*circle_separation_x))**2 + (y - (skull_start_y - circle1_from_skull))**2 < circle_radius**2\n",
    "    circle2_cond = (x - (N[0]//2 - circle_radius - (2*i+1)*circle_separation_x))**2 + (y - (skull_start_y - circle2_from_skull))**2 < circle_radius**2\n",
    "    regions[circle1_cond] = 1\n",
    "    regions[circle2_cond] = 0\n",
    "\n",
    "regions[:, skull_start_y:] = 0"
   ]
  },
  {
   "cell_type": "code",
   "execution_count": null,
   "metadata": {},
   "outputs": [],
   "source": [
    "c0 = 1500 # speed of sound in water [m/s]\n",
    "c_lens = 2160 # speed of sound in lens [m/s]\n",
    "rho0 = 1000 # density of water [kg/m^3]\n",
    "speed_skull = c0 * np.ones(N)\n",
    "speed_skull[regions == 1] = c_lens\n",
    "density_skull = rho0 * np.ones(N)\n",
    "# density_skull[regions == 1] = 1800"
   ]
  },
  {
   "cell_type": "markdown",
   "metadata": {},
   "source": [
    "# Transmit time-reversal"
   ]
  },
  {
   "cell_type": "code",
   "execution_count": null,
   "metadata": {},
   "outputs": [],
   "source": [
    "# define virtual transducer position beneath the skull\n",
    "# virtual_positions = np.array([\n",
    "#     np.linspace(0, N[0] - 1, N[0]),\n",
    "#     (N[1] - transducer_depth) * np.ones(N[0]),\n",
    "# ], dtype=int)\n",
    "virtual_positions = element_positions.copy()\n",
    "virtual_positions[1] -= 90"
   ]
  },
  {
   "cell_type": "code",
   "execution_count": null,
   "metadata": {},
   "outputs": [],
   "source": [
    "ext = [0, N[1]*dx[1], N[0]*dx[0], 0]\n",
    "plt.scatter(element_positions[1]*dx[1], element_positions[0]*dx[0],\n",
    "            c='r', marker='o', s=5, label='transducer element')\n",
    "plt.scatter(virtual_positions[1]*dx[1], virtual_positions[0]*dx[0],\n",
    "            c='b', marker='o', s=5, label='virtual element')\n",
    "plt.imshow(speed_skull, cmap='gray', extent=ext)\n",
    "plt.axhline(y=N[1]*dx[1]/2, color='r', linestyle='--')  # Adds a horizontal line at the center\n",
    "# plt.colorbar(label='Speed of sound [m/s]')\n",
    "plt.xlabel('[m]')\n",
    "plt.ylabel('[m]')\n",
    "plt.legend(prop={'size': 7})\n",
    "plt.gca().invert_yaxis()\n",
    "plt.show()"
   ]
  },
  {
   "cell_type": "code",
   "execution_count": null,
   "metadata": {},
   "outputs": [],
   "source": [
    "from jwave import FourierSeries\n",
    "from jwave.geometry import Medium, TimeAxis\n",
    "\n",
    "medium = Medium(domain=domain,\n",
    "                sound_speed=FourierSeries(jnp.expand_dims(speed_skull, -1), domain),\n",
    "                density=FourierSeries(jnp.expand_dims(density_skull, -1), domain),\n",
    "                pml_size=pml[0])\n",
    "time_axis = TimeAxis.from_medium(medium, cfl=0.3)\n",
    "\n",
    "t_end_rf = raw_rf_data.shape[0] * dt_rf\n",
    "time_axis = TimeAxis(time_axis.dt, t_end_rf)\n",
    "t = time_axis.to_array()"
   ]
  },
  {
   "cell_type": "code",
   "execution_count": null,
   "metadata": {},
   "outputs": [],
   "source": [
    "from scipy.signal import resample\n",
    "source_signal = np.squeeze(mat['TW']['Wvfm1Wy'][0,0])\n",
    "new_num_samples = int((1/time_axis.dt) * len(source_signal) / 250e6)\n",
    "source_signal = resample(source_signal, new_num_samples)\n",
    "\n",
    "# Plot time-domain signal\n",
    "plt.subplot(1, 2, 1)\n",
    "plt.plot(t[:len(source_signal)], source_signal)\n",
    "plt.title('Time Domain Signal')\n",
    "plt.xlabel('Time (s)')\n",
    "plt.ylabel('Amplitude')\n",
    "\n",
    "# Compute and plot frequency spectrum\n",
    "frequency = np.fft.fftfreq(source_signal.size, d=time_axis.dt)\n",
    "magnitude = np.abs(np.fft.fft(source_signal))\n",
    "plt.subplot(1, 2, 2)\n",
    "plt.plot(frequency, magnitude)\n",
    "plt.xlim(0, 5e6)\n",
    "plt.title('Frequency Spectrum')\n",
    "plt.xlabel('Frequency (Hz)')\n",
    "plt.ylabel('Magnitude')\n",
    "plt.show()"
   ]
  },
  {
   "cell_type": "code",
   "execution_count": null,
   "metadata": {},
   "outputs": [],
   "source": [
    "source_signal = np.pad(source_signal, (0, int(time_axis.Nt - source_signal.size)), 'constant')\n",
    "source_signal.shape"
   ]
  },
  {
   "cell_type": "code",
   "execution_count": null,
   "metadata": {},
   "outputs": [],
   "source": [
    "# from jwave_utils import get_plane_wave_excitation\n",
    "# angle = 0\n",
    "# virtual_sources, virtual_signal, virtual_carrier_signal = get_plane_wave_excitation(domain, time_axis, 1e6, transducer_frequency, dx[0], virtual_positions, angle=angle)\n",
    "\n",
    "from jwave.geometry import Sources\n",
    "sources = Sources(\n",
    "        positions=tuple(map(tuple, element_positions)),\n",
    "        signals=jnp.vstack([source_signal] * element_positions.shape[1]),\n",
    "        dt=time_axis.dt,\n",
    "        domain=domain,\n",
    "    )\n",
    "\n",
    "plt.plot(sources.signals[0])\n",
    "plt.xlabel('Time point')\n",
    "plt.ylabel('Amplitude [Pa]')\n",
    "plt.show()"
   ]
  },
  {
   "cell_type": "code",
   "execution_count": null,
   "metadata": {},
   "outputs": [],
   "source": [
    "# from jwave_utils import get_data\n",
    "\n",
    "# # simulate data using jwave\n",
    "# virtual_pressure_skull, virtual_data_skull = get_data(speed, density, domain, time_axis_sim, virtual_sources, element_positions)"
   ]
  },
  {
   "cell_type": "code",
   "execution_count": null,
   "metadata": {},
   "outputs": [],
   "source": [
    "# from jwave.utils import show_field\n",
    "\n",
    "# t_idx = 400\n",
    "# show_field(pressure_skull[t_idx])\n",
    "# plt.title(f\"Pressure field at t={time_axis.to_array()[t_idx]} seconds\")\n",
    "# plt.show()"
   ]
  },
  {
   "cell_type": "code",
   "execution_count": null,
   "metadata": {},
   "outputs": [],
   "source": [
    "# reverse_threshold = 750\n",
    "# virtual_data = jnp.squeeze(virtual_pressure_skull.params[:, element_positions[0], element_positions[1]])\n",
    "# virtual_data = jnp.flip(virtual_data, axis=0)\n",
    "# virtual_data = virtual_data.at[:int(time_axis_sim.Nt - reverse_threshold), :].set(0)\n",
    "# virtual_data = jnp.roll(virtual_data, - int(time_axis_sim.Nt - reverse_threshold), axis=0)\n",
    "# plt.imshow(virtual_data, aspect='auto', cmap='seismic')   \n",
    "# plt.show()"
   ]
  },
  {
   "cell_type": "code",
   "execution_count": null,
   "metadata": {},
   "outputs": [],
   "source": [
    "# from jwave.geometry import Sources\n",
    "\n",
    "# time_reversed_sources = Sources(\n",
    "#     positions=tuple(map(tuple, element_positions)),\n",
    "#     signals=jnp.array(virtual_data.T),\n",
    "#     dt=time_axis_sim.dt,\n",
    "#     domain=domain,\n",
    "# )\n",
    "\n",
    "# plt.plot(time_axis_sim.to_array(), time_reversed_sources.signals[0])\n",
    "# plt.xlabel('Time point')\n",
    "# plt.ylabel('Amplitude [Pa]')\n",
    "# plt.show()"
   ]
  },
  {
   "cell_type": "code",
   "execution_count": null,
   "metadata": {},
   "outputs": [],
   "source": [
    "# pressure_skull, data_skull = get_data(speed, density, domain, time_axis_sim, time_reversed_sources, virtual_positions)"
   ]
  },
  {
   "cell_type": "code",
   "execution_count": null,
   "metadata": {},
   "outputs": [],
   "source": [
    "# from jwave.utils import show_field\n",
    "\n",
    "# t_idx = 800\n",
    "# show_field(pressure_skull[t_idx])\n",
    "# plt.title(f\"Pressure field at t={time_axis.to_array()[t_idx]} seconds\")\n",
    "# plt.show()"
   ]
  },
  {
   "cell_type": "markdown",
   "metadata": {},
   "source": [
    "# Receive time-reversal"
   ]
  },
  {
   "cell_type": "code",
   "execution_count": null,
   "metadata": {},
   "outputs": [],
   "source": [
    "from scipy.signal import resample\n",
    "new_num_samples = int((1/time_axis.dt) * raw_rf_data.shape[0] / (1/dt_rf))\n",
    "raw_rf_data_sim = resample(raw_rf_data, new_num_samples, axis=0)\n",
    "raw_rf_data_sim.shape"
   ]
  },
  {
   "cell_type": "code",
   "execution_count": null,
   "metadata": {},
   "outputs": [],
   "source": [
    "# from jwave_utils import get_plane_wave_excitation\n",
    "# angle = 0\n",
    "# sources, signal, carrier_signal = get_plane_wave_excitation(domain, time_axis, transducer_magnitude, transducer_frequency, dx[0], element_positions, angle=angle)\n",
    "# _, data = get_data(speed, density, domain, time_axis, sources, element_positions)\n",
    "# _, data_homogeneous = get_data(speed_homogeneous, density_homogeneous, domain, time_axis, sources, element_positions)\n",
    "# output_data = data - data_homogeneous\n",
    "\n",
    "from jwave_utils import get_data\n",
    "# DE-ABERRATION\n",
    "sources = Sources(\n",
    "    positions=tuple(map(tuple, element_positions)),\n",
    "    signals=jnp.flip(raw_rf_data_sim[:, :, 0], axis=0).T,\n",
    "    dt=time_axis.dt,\n",
    "    domain=domain,\n",
    ")\n",
    "_, data = get_data(speed_skull, density_skull, domain, time_axis, sources, virtual_positions)\n",
    "data = jnp.flip(data, axis=0)\n",
    "\n",
    "# _, data_skull = get_data(speed_skull, density_skull, domain, time_axis, time_reversed_sources, element_positions)\n",
    "pressure_skull, data_skull = get_data(speed_skull, density_skull, domain, time_axis, sources, element_positions)\n",
    "sources = Sources(\n",
    "    positions=tuple(map(tuple, element_positions)),\n",
    "    signals=jnp.flip(data_skull, axis=0).T,\n",
    "    dt=time_axis.dt,\n",
    "    domain=domain,\n",
    ")\n",
    "_, data_skull = get_data(speed_skull, density_skull, domain, time_axis, sources, virtual_positions)\n",
    "data_skull = jnp.flip(data_skull, axis=0)\n",
    "output_data = data - data_skull"
   ]
  },
  {
   "cell_type": "code",
   "execution_count": null,
   "metadata": {},
   "outputs": [],
   "source": [
    "plt.imshow(data, aspect='auto', cmap='seismic')\n",
    "plt.xlabel('Transducer elements')\n",
    "plt.ylabel('Time point')\n",
    "plt.show()"
   ]
  },
  {
   "cell_type": "code",
   "execution_count": null,
   "metadata": {},
   "outputs": [],
   "source": [
    "plt.imshow(output_data, aspect='auto', cmap='seismic')\n",
    "plt.xlabel('Transducer elements')\n",
    "plt.ylabel('Time point')\n",
    "plt.show()"
   ]
  },
  {
   "cell_type": "code",
   "execution_count": null,
   "metadata": {},
   "outputs": [],
   "source": [
    "from jwave.utils import show_field\n",
    "\n",
    "t_idx = 400\n",
    "show_field(pressure_skull[t_idx])\n",
    "plt.title(f\"Pressure field at t={time_axis.to_array()[t_idx]} seconds\")\n",
    "plt.show()"
   ]
  },
  {
   "cell_type": "markdown",
   "metadata": {},
   "source": [
    "# Reconstruction"
   ]
  },
  {
   "cell_type": "code",
   "execution_count": null,
   "metadata": {},
   "outputs": [],
   "source": [
    "from imaging.demodulate import demodulate_rf_to_iq\n",
    "\n",
    "iq_signals, freq_carrier = demodulate_rf_to_iq(raw_rf_data[:,:,0], 1/dt_rf, freq_carrier=transducer_frequency)\n",
    "iq_signals_deab, freq_carrier_deab = demodulate_rf_to_iq(output_data, 1/time_axis.dt, freq_carrier=transducer_frequency)"
   ]
  },
  {
   "cell_type": "code",
   "execution_count": null,
   "metadata": {},
   "outputs": [],
   "source": [
    "# N = domain.N[0]\n",
    "Nz = domain.N[1] - transducer_depth\n",
    "dx0 = domain.dx[0]\n",
    "\n",
    "# Generate 1D arrays for x and z\n",
    "x = np.linspace(-(domain.N[0]//2)*dx0, (domain.N[0]//2)*dx0, domain.N[0])\n",
    "z = np.linspace(0, domain.N[1]*dx0, domain.N[1])\n",
    "\n",
    "# Create 2D meshgrid for x and z\n",
    "X, Z = np.meshgrid(x, z)"
   ]
  },
  {
   "cell_type": "code",
   "execution_count": null,
   "metadata": {},
   "outputs": [],
   "source": [
    "from imaging.beamform import beamform_delay_and_sum\n",
    "\n",
    "beamformed_signal = beamform_delay_and_sum(iq_signals, X, Z, 1/dt_rf, freq_carrier, pitch=element_pitch, tx_delays=np.zeros(iq_signals.shape[1]))\n",
    "beamformed_signal_deab = beamform_delay_and_sum(iq_signals_deab, X, Z, 1/time_axis.dt, freq_carrier_deab, pitch=element_pitch, tx_delays=np.zeros(iq_signals.shape[1]))"
   ]
  },
  {
   "cell_type": "code",
   "execution_count": null,
   "metadata": {},
   "outputs": [],
   "source": [
    "plt.imshow(np.abs(beamformed_signal), cmap='seismic', extent=ext)\n",
    "plt.xlabel('[m]')\n",
    "plt.ylabel('[m]')\n",
    "# plt.colorbar()\n",
    "plt.show()"
   ]
  },
  {
   "cell_type": "code",
   "execution_count": null,
   "metadata": {},
   "outputs": [],
   "source": [
    "plt.imshow(np.abs(beamformed_signal_deab), cmap='seismic', extent=ext)\n",
    "plt.xlabel('[m]')\n",
    "plt.ylabel('[m]')\n",
    "# plt.colorbar()\n",
    "plt.show()"
   ]
  },
  {
   "cell_type": "code",
   "execution_count": null,
   "metadata": {},
   "outputs": [],
   "source": []
  }
 ],
 "metadata": {
  "kernelspec": {
   "display_name": "Python 3",
   "language": "python",
   "name": "python3"
  },
  "language_info": {
   "codemirror_mode": {
    "name": "ipython",
    "version": 3
   },
   "file_extension": ".py",
   "mimetype": "text/x-python",
   "name": "python",
   "nbconvert_exporter": "python",
   "pygments_lexer": "ipython3",
   "version": "3.10.12"
  }
 },
 "nbformat": 4,
 "nbformat_minor": 2
}
