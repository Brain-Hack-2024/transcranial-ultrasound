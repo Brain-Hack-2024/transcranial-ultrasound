{
 "cells": [
  {
   "cell_type": "code",
   "execution_count": null,
   "metadata": {},
   "outputs": [],
   "source": [
    "%load_ext autoreload\n",
    "%autoreload 2"
   ]
  },
  {
   "cell_type": "code",
   "execution_count": null,
   "metadata": {},
   "outputs": [],
   "source": [
    "from functools import partial\n",
    "\n",
    "import numpy as np\n",
    "import jax\n",
    "from jax import jit\n",
    "from jax import numpy as jnp\n",
    "from jax import random\n",
    "from matplotlib import pyplot as plt\n",
    "\n",
    "from jwave import FiniteDifferences, FourierSeries\n",
    "from jwave.geometry import Domain, Medium, circ_mask\n",
    "from jwave.utils import display_complex_field, show_positive_field\n",
    "\n",
    "import sys\n",
    "sys.path.append('../')\n",
    "\n",
    "key = random.PRNGKey(42)  # Random seed"
   ]
  },
  {
   "cell_type": "code",
   "execution_count": null,
   "metadata": {},
   "outputs": [],
   "source": [
    "# define linear ultrasound transducer (P4-1)\n",
    "nelements = 96\n",
    "element_pitch = 2.95e-4 # distance between transducer elements\n",
    "transducer_extent = (nelements - 1) * element_pitch # length of the transducer [m]\n",
    "transducer_frequency = 2.5e6 # frequency of the transducer [Hz]\n",
    "omega = 2 * np.pi * transducer_frequency # angular\n",
    "transducer_magnitude = 1e6 # magnitude of the transducer [Pa]\n",
    "print(f\"Transducer extent: {transducer_extent:.3f} m\")"
   ]
  },
  {
   "cell_type": "code",
   "execution_count": null,
   "metadata": {},
   "outputs": [],
   "source": [
    "import pydicom\n",
    "\n",
    "# define skull slice\n",
    "skull_dicom = pydicom.dcmread(\"../data/skull_slice.dcm\")\n",
    "skull_array = skull_dicom.pixel_array.astype(np.int16)\n",
    "skull_array = skull_array[:500, 600:-600]\n",
    "skull_array = np.flipud(skull_array)\n",
    "downsampling_factor = 2\n",
    "new_shape = (skull_array.shape[0] // downsampling_factor, skull_array.shape[1] // downsampling_factor)\n",
    "skull_array = jax.image.resize(skull_array, new_shape, method='nearest').T\n",
    "plt.imshow(skull_array, cmap='gray')\n",
    "plt.gca().invert_yaxis()\n",
    "plt.show()"
   ]
  },
  {
   "cell_type": "code",
   "execution_count": null,
   "metadata": {},
   "outputs": [],
   "source": [
    "from jwave_utils import get_domain\n",
    "\n",
    "# define spatial parameters\n",
    "N = np.array(skull_array.shape).astype(int) # grid size [grid points]\n",
    "dx = np.array([9.07935931401377e-5*downsampling_factor, 9.07935931401377e-5*downsampling_factor]) # grid spacing [m]\n",
    "pml = np.array([20, 20]) # size of the perfectly matched layer [grid points]\n",
    "\n",
    "domain = get_domain(N, dx)"
   ]
  },
  {
   "cell_type": "code",
   "execution_count": null,
   "metadata": {},
   "outputs": [],
   "source": [
    "# define real transducer positions\n",
    "transducer_depth = pml[1] # depth of the transducer [grid points]\n",
    "transducer_x_start = N[0]//2 - nelements//2 # start index of the transducer in the x-direction [grid points]\n",
    "element_positions = np.array([\n",
    "    np.linspace(transducer_x_start, transducer_x_start + nelements - 1, nelements),\n",
    "    (N[1] - transducer_depth) * np.ones(nelements),\n",
    "], dtype=int)\n",
    "element_positions"
   ]
  },
  {
   "cell_type": "code",
   "execution_count": null,
   "metadata": {},
   "outputs": [],
   "source": [
    "             # frequency [Hz] | attenuation [Np/m]\n",
    "skull_attenuations = {0.5e6   : 27.2765, \n",
    "                        1e6   : 54.553,\n",
    "                        2.5e6 : 136.3825,\n",
    "                        4e6   : 272.765\n",
    "                      }\n",
    "water_attenuations = {0.5e6   : 0.0126642180115,\n",
    "                        1e6   : 0.025328436023,\n",
    "                        2.5e6 : 0.0633210900575,\n",
    "                        4e6   : 0.101313744092\n",
    "                        }"
   ]
  },
  {
   "cell_type": "code",
   "execution_count": null,
   "metadata": {},
   "outputs": [],
   "source": [
    "from jwave_utils import get_homogeneous_medium, get_skull_medium\n",
    "\n",
    "# get mediums\n",
    "c0 = 1500 # speed of sound in water [m/s]\n",
    "speed_homogeneous, density_homogeneous = get_homogeneous_medium(domain, background_std=0)\n",
    "speed_skull, density_skull = get_skull_medium(domain, skull_array, background_std=0)\n",
    "\n",
    "attenuation_skull = np.zeros(domain.N)\n",
    "attenuation_skull[skull_array > 20000] = skull_attenuations[transducer_frequency]\n",
    "attenuation_skull[attenuation_skull==0] = water_attenuations[transducer_frequency]\n",
    "\n",
    "speed_skull = FourierSeries(jnp.expand_dims(speed_skull, -1), domain)\n",
    "density_skull = FourierSeries(jnp.expand_dims(density_skull, -1), domain)\n",
    "attenuation_skull = FourierSeries(jnp.expand_dims(attenuation_skull, -1), domain)\n",
    "\n",
    "medium = Medium(\n",
    "    domain=domain,\n",
    "    sound_speed=speed_skull,\n",
    "    density=density_skull,\n",
    "    attenuation=attenuation_skull, # uncomment to model attenuation\n",
    "    pml_size=pml[0],\n",
    ")"
   ]
  },
  {
   "cell_type": "code",
   "execution_count": null,
   "metadata": {},
   "outputs": [],
   "source": [
    "ext = [0, N[1]*dx[1], N[0]*dx[0], 0]\n",
    "plt.scatter(element_positions[1]*dx[1], element_positions[0]*dx[0],\n",
    "            c='r', marker='o', s=5, label='transducer element')\n",
    "plt.imshow(attenuation_skull.params, cmap='gray', extent=ext)\n",
    "plt.colorbar(label='Speed of sound [m/s]')\n",
    "plt.xlabel('[m]')\n",
    "plt.ylabel('[m]')\n",
    "plt.legend(prop={'size': 7})\n",
    "plt.gca().invert_yaxis()\n",
    "plt.show()"
   ]
  },
  {
   "cell_type": "code",
   "execution_count": null,
   "metadata": {},
   "outputs": [],
   "source": [
    "src_field = jnp.zeros(N).astype(jnp.complex64)\n",
    "src_field = src_field.at[element_positions[0], element_positions[1]].set(1.0)\n",
    "src = FourierSeries(jnp.expand_dims(src_field, -1), domain) * omega"
   ]
  },
  {
   "cell_type": "code",
   "execution_count": null,
   "metadata": {},
   "outputs": [],
   "source": [
    "from jwave.acoustics.time_harmonic import helmholtz, helmholtz_solver\n",
    "\n",
    "@jit\n",
    "def solve_helmholtz(medium):\n",
    "    return helmholtz_solver(medium, omega, src)\n",
    "\n",
    "field = solve_helmholtz(medium)"
   ]
  },
  {
   "cell_type": "code",
   "execution_count": null,
   "metadata": {},
   "outputs": [],
   "source": [
    "field = solve_helmholtz(medium)"
   ]
  },
  {
   "cell_type": "code",
   "execution_count": null,
   "metadata": {},
   "outputs": [],
   "source": [
    "fig, axs = plt.subplots(1, 2, figsize=(10, 4))\n",
    "\n",
    "im = axs[0].imshow(np.abs(field.params), cmap='magma', extent=ext, vmax=4e6)\n",
    "axs[0].set_title('Magnitude')\n",
    "axs[0].set_xlabel('[m]')\n",
    "axs[0].set_ylabel('[m]')\n",
    "fig.colorbar(im, ax=axs[0])\n",
    "axs[0].axhline(y=N[0]//2*dx[0], color='r', linestyle='--')\n",
    "\n",
    "x = np.linspace(0, N[1]*dx[1], N[1])\n",
    "axs[1].plot(x, np.log(np.abs(field.params[N[0]//2, :])))\n",
    "axs[1].set_xlabel('[m]')\n",
    "axs[1].set_ylabel('log(magnitude)')\n",
    "\n",
    "plt.tight_layout()\n",
    "plt.show()\n"
   ]
  },
  {
   "cell_type": "code",
   "execution_count": null,
   "metadata": {},
   "outputs": [],
   "source": []
  }
 ],
 "metadata": {
  "kernelspec": {
   "display_name": "Python 3",
   "language": "python",
   "name": "python3"
  },
  "language_info": {
   "codemirror_mode": {
    "name": "ipython",
    "version": 3
   },
   "file_extension": ".py",
   "mimetype": "text/x-python",
   "name": "python",
   "nbconvert_exporter": "python",
   "pygments_lexer": "ipython3",
   "version": "3.10.12"
  }
 },
 "nbformat": 4,
 "nbformat_minor": 2
}
