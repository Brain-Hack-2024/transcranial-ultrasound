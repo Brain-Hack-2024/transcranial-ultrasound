{
 "cells": [
  {
   "cell_type": "code",
   "execution_count": null,
   "metadata": {},
   "outputs": [],
   "source": [
    "%load_ext autoreload\n",
    "%autoreload 2"
   ]
  },
  {
   "cell_type": "code",
   "execution_count": null,
   "metadata": {},
   "outputs": [],
   "source": [
    "import numpy as np\n",
    "import jax.numpy as jnp\n",
    "import matplotlib.pyplot as plt\n",
    "\n",
    "import jax\n",
    "from jax import jit\n",
    "from jax.lib import xla_bridge\n",
    "print(f\"Jax is using: {xla_bridge.get_backend().platform}\")\n",
    "\n",
    "import sys\n",
    "sys.path.append('../')"
   ]
  },
  {
   "cell_type": "markdown",
   "metadata": {},
   "source": [
    "# Dataset"
   ]
  },
  {
   "cell_type": "code",
   "execution_count": null,
   "metadata": {},
   "outputs": [],
   "source": [
    "import pyuff_ustb as pyuff\n",
    "\n",
    "filepath = \"../data/PICMUS_experiment_resolution_distortion.uff\"\n",
    "# filepath = \"../data/picmus.uff\"\n",
    "uff = pyuff.Uff(filepath)\n",
    "print(uff)  # <- print the keys of the UFF file\n",
    "channel_data = uff.read(\"channel_data\")\n",
    "scan = uff.read(\"scan\")"
   ]
  },
  {
   "cell_type": "code",
   "execution_count": null,
   "metadata": {},
   "outputs": [],
   "source": [
    "beamformed_data = np.array(uff.read(\"beamformed_data\").data).reshape(387,609)\n",
    "plt.imshow(np.abs(beamformed_data).T, cmap='gray')\n",
    "plt.show()"
   ]
  },
  {
   "cell_type": "code",
   "execution_count": null,
   "metadata": {},
   "outputs": [],
   "source": [
    "uff.read(\"beamformed_data\").sequence[0]"
   ]
  },
  {
   "cell_type": "code",
   "execution_count": null,
   "metadata": {},
   "outputs": [],
   "source": [
    "channel_data = uff.read(\"channel_data\")\n",
    "channel_data"
   ]
  },
  {
   "cell_type": "code",
   "execution_count": null,
   "metadata": {},
   "outputs": [],
   "source": [
    "channel_data.sampling_frequency"
   ]
  },
  {
   "cell_type": "code",
   "execution_count": null,
   "metadata": {},
   "outputs": [],
   "source": [
    "channel_data.PRF"
   ]
  },
  {
   "cell_type": "code",
   "execution_count": null,
   "metadata": {},
   "outputs": [],
   "source": [
    "channel_data.probe"
   ]
  },
  {
   "cell_type": "code",
   "execution_count": null,
   "metadata": {},
   "outputs": [],
   "source": [
    "channel_data.sequence[0]"
   ]
  },
  {
   "cell_type": "code",
   "execution_count": null,
   "metadata": {},
   "outputs": [],
   "source": [
    "rf_data = np.array(channel_data.data)\n",
    "rf_data.shape"
   ]
  },
  {
   "cell_type": "code",
   "execution_count": null,
   "metadata": {},
   "outputs": [],
   "source": [
    "plt.imshow((rf_data[:, :, 5]), cmap='seismic', aspect='auto', \n",
    "           vmin=-1e-2, vmax=1e-2)\n",
    "plt.colorbar()\n",
    "plt.show()"
   ]
  },
  {
   "cell_type": "markdown",
   "metadata": {},
   "source": [
    "# Simulate data"
   ]
  },
  {
   "cell_type": "code",
   "execution_count": null,
   "metadata": {},
   "outputs": [],
   "source": [
    "# define linear ultrasound transducer (P4-1)\n",
    "nelements = channel_data.probe.N_elements\n",
    "element_pitch = channel_data.probe.pitch\n",
    "transducer_extent = (nelements - 1) * element_pitch # length of the transducer [m]\n",
    "transducer_frequency = 5.208e6 # frequency of the transducer [Hz]\n",
    "transducer_magnitude = 1 # magnitude of the transducer [MPa]\n",
    "print(f\"Transducer extent: {transducer_extent:.3f} m\")"
   ]
  },
  {
   "cell_type": "code",
   "execution_count": null,
   "metadata": {},
   "outputs": [],
   "source": [
    "# define spatial parameters\n",
    "factor = 2\n",
    "dx = np.array([element_pitch/factor, element_pitch/factor]) # grid spacing [m]\n",
    "element_pitch_gridpoints = int(element_pitch / dx[0])\n",
    "transducer_extent_gridpoints = element_pitch_gridpoints * (nelements - 1)\n",
    "N = np.array([transducer_extent_gridpoints, 550]).astype(int)\n",
    "pml = np.array([20, 20]) # size of the perfectly matched layer [grid points]\n",
    "\n",
    "# define transducer position in domain\n",
    "transducer_depth = pml[1] # depth of the transducer [grid points]\n",
    "transducer_x_start = N[0]//2 - nelements//2 * (element_pitch // dx[0]) # start index of the transducer in the x-direction [grid points]\n",
    "element_positions = np.array([\n",
    "    np.linspace(0, transducer_extent_gridpoints, nelements),\n",
    "    (N[1] - transducer_depth) * np.ones(nelements),\n",
    "], dtype=int)\n",
    "element_positions"
   ]
  },
  {
   "cell_type": "code",
   "execution_count": null,
   "metadata": {},
   "outputs": [],
   "source": [
    "from jwave_utils import get_domain, get_homogeneous_medium\n",
    "\n",
    "# define jwave medium\n",
    "c0 = channel_data.sound_speed # speed of sound [m/s]\n",
    "medium_params = {\n",
    "    'c0': c0,  # speed of sound [m/s]\n",
    "    'rho0': 1000,  # density [kg/m^3]\n",
    "    'background_mean': 1,  # mean of the background noise\n",
    "    'pml_size': pml[0]  # size of the perfectly matched layer [grid points]\n",
    "}\n",
    "\n",
    "domain = get_domain(N, dx)\n",
    "speed_homogenous, density_homogenous = get_homogeneous_medium(domain, **medium_params, background_std=0, background_seed=29)\n",
    "\n",
    "ext = [0, N[0]*dx[0], N[1]*dx[1], 0]\n",
    "plt.scatter(element_positions[0]*dx[0], element_positions[1]*dx[1],\n",
    "            c='r', marker='o', s=5, label='transducer element')\n",
    "plt.imshow(speed_homogenous.T, cmap='gray', extent=ext)\n",
    "plt.colorbar(label='Speed of sound [m/s]')\n",
    "plt.xlabel('[m]')\n",
    "plt.ylabel('[m]')\n",
    "plt.legend(prop={'size': 7})\n",
    "plt.gca().invert_yaxis()\n",
    "plt.show()"
   ]
  },
  {
   "cell_type": "code",
   "execution_count": null,
   "metadata": {},
   "outputs": [],
   "source": [
    "from jwave.geometry import TimeAxis, Medium\n",
    "from jwave import FourierSeries\n",
    "from jwave_utils import get_plane_wave_excitation\n",
    "\n",
    "angle_idx = 75//2\n",
    "angle = channel_data.sequence[angle_idx].source.azimuth#10 * np.pi / 180\n",
    "dt = 1/channel_data.sampling_frequency\n",
    "Nt = rf_data.shape[0]\n",
    "t_end = Nt * dt\n",
    "# time_axis = TimeAxis(dt, Nt*dt)\n",
    "\n",
    "# medium = Medium(domain, FourierSeries(jnp.expand_dims(speed_homogenous, -1), domain), FourierSeries(jnp.expand_dims(density_homogenous, -1), domain), pml_size=20)\n",
    "# time_axis = TimeAxis.from_medium(medium, cfl=0.3)\n",
    "time_factor = 1\n",
    "time_axis = TimeAxis(dt/time_factor, t_end)\n",
    "t = time_axis.to_array()\n",
    "\n",
    "sources, signal, carrier_signal = get_plane_wave_excitation(\n",
    "    domain, time_axis, transducer_magnitude, transducer_frequency, \n",
    "    element_pitch, element_positions, angle=angle, hann_window=False, tone=True)\n",
    "\n",
    "fig, axs = plt.subplots(1, 2, figsize=(12, 4))\n",
    "\n",
    "# Plot the time-domain signal\n",
    "axs[0].plot(sources.signals[10])\n",
    "axs[0].set_xlabel('Time [s]')\n",
    "axs[0].set_ylabel('Amplitude [Pa]')\n",
    "axs[0].set_title('Time-Domain Signal')\n",
    "\n",
    "# Compute and plot the Fourier spectrum\n",
    "signal_fft = np.fft.fft(sources.signals[10])\n",
    "freq = np.fft.fftfreq(len(signal_fft), d=time_axis.dt)\n",
    "axs[1].plot(freq, np.abs(signal_fft))\n",
    "axs[1].set_xlabel('Frequency [Hz]')\n",
    "axs[1].set_xlim(0, 10e6)\n",
    "axs[1].set_ylabel('Magnitude')\n",
    "axs[1].set_title('Fourier Spectrum')\n",
    "plt.show()\n"
   ]
  },
  {
   "cell_type": "code",
   "execution_count": null,
   "metadata": {},
   "outputs": [],
   "source": [
    "from jwave_utils import get_data\n",
    "\n",
    "# simulate data using jwave\n",
    "pressure_homogenous, data_homogenous = get_data(speed_homogenous, density_homogenous, domain, time_axis, sources, element_positions)"
   ]
  },
  {
   "cell_type": "code",
   "execution_count": null,
   "metadata": {},
   "outputs": [],
   "source": [
    "from jwave.utils import show_field\n",
    "\n",
    "t_idx = 400\n",
    "plt.imshow(pressure_homogenous.params[t_idx])\n",
    "plt.title(f\"Pressure field at t={time_axis.to_array()[t_idx]} seconds\")\n",
    "plt.show()"
   ]
  },
  {
   "cell_type": "code",
   "execution_count": null,
   "metadata": {},
   "outputs": [],
   "source": [
    "data_homogenous.shape"
   ]
  },
  {
   "cell_type": "code",
   "execution_count": null,
   "metadata": {},
   "outputs": [],
   "source": [
    "plt.imshow(data_homogenous, aspect='auto', cmap='seismic')\n",
    "plt.xlabel('Transducer elements')\n",
    "plt.ylabel('Time point')\n",
    "plt.colorbar()\n",
    "plt.show()"
   ]
  },
  {
   "cell_type": "code",
   "execution_count": null,
   "metadata": {},
   "outputs": [],
   "source": [
    "plt.imshow(rf_data[:, :, angle_idx], cmap='seismic', aspect='auto')\n",
    "plt.colorbar()\n",
    "plt.show()"
   ]
  },
  {
   "cell_type": "code",
   "execution_count": null,
   "metadata": {},
   "outputs": [],
   "source": [
    "output_data = rf_data[:, :, angle_idx]/np.max(rf_data[:, :, angle_idx]) - data_homogenous[::time_factor]/np.max(data_homogenous)\n",
    "plt.imshow(output_data, cmap='seismic', aspect='auto')\n",
    "plt.colorbar()\n",
    "plt.show()"
   ]
  },
  {
   "cell_type": "markdown",
   "metadata": {},
   "source": [
    "# Reconstruction"
   ]
  },
  {
   "cell_type": "markdown",
   "metadata": {},
   "source": [
    "## Naive"
   ]
  },
  {
   "cell_type": "code",
   "execution_count": null,
   "metadata": {},
   "outputs": [],
   "source": [
    "from beamforming_utils import get_receive_beamforming\n",
    "signal_delay = (element_pitch * np.sin(angle) / c0) / time_axis.dt \n",
    "res = get_receive_beamforming(domain, time_axis, element_positions, rf_data[:, :, angle_idx], signal, carrier_signal, signal_delay)"
   ]
  },
  {
   "cell_type": "code",
   "execution_count": null,
   "metadata": {},
   "outputs": [],
   "source": [
    "plt.imshow(res.T, cmap='gray')#, vmin=-1e-7, vmax=1e-7)\n",
    "plt.colorbar()\n",
    "plt.gca().invert_yaxis()\n",
    "plt.show()"
   ]
  },
  {
   "cell_type": "markdown",
   "metadata": {},
   "source": [
    "## ntk"
   ]
  },
  {
   "cell_type": "code",
   "execution_count": null,
   "metadata": {},
   "outputs": [],
   "source": [
    "from imaging.demodulate import demodulate_rf_to_iq\n",
    "freq_sampling = 1/time_axis.dt\n",
    "iq_signals, freq_carrier = demodulate_rf_to_iq(rf_data[:, :, angle_idx], freq_sampling, freq_carrier=transducer_frequency)"
   ]
  },
  {
   "cell_type": "code",
   "execution_count": null,
   "metadata": {},
   "outputs": [],
   "source": [
    "N0 = int(domain.N[0])\n",
    "N1 = int(domain.N[1])\n",
    "Nz = N1 - transducer_depth\n",
    "dx0 = domain.dx[0]\n",
    "\n",
    "# Generate 1D arrays for x and z\n",
    "x = np.linspace(-(N0//2)*dx0, (N0//2)*dx0, N0)\n",
    "z = np.linspace(0, Nz*dx0, Nz)\n",
    "\n",
    "# Create 2D meshgrid for x and z\n",
    "X, Z = np.meshgrid(x, z)"
   ]
  },
  {
   "cell_type": "code",
   "execution_count": null,
   "metadata": {},
   "outputs": [],
   "source": [
    "from imaging.beamform import beamform_delay_and_sum\n",
    "\n",
    "beamformed_signal = beamform_delay_and_sum(iq_signals, X, Z, freq_sampling, freq_carrier, pitch=element_pitch, tx_delays=np.zeros(nelements))"
   ]
  },
  {
   "cell_type": "code",
   "execution_count": null,
   "metadata": {},
   "outputs": [],
   "source": [
    "beamformed_signal_2 = beamformed_signal.copy()\n",
    "# beamformed_signal_2[:25, :] = 0\n",
    "\n",
    "plt.imshow(np.abs(beamformed_signal_2), cmap='gray')\n",
    "plt.colorbar()\n",
    "plt.show()\n"
   ]
  },
  {
   "cell_type": "markdown",
   "metadata": {},
   "source": [
    "## Gradient"
   ]
  },
  {
   "cell_type": "code",
   "execution_count": null,
   "metadata": {},
   "outputs": [],
   "source": [
    "from jax import value_and_grad\n",
    "from jwave_utils import get_data_only\n",
    "from solver_utils import linear_loss, nonlinear_loss\n",
    "\n",
    "params = speed_homogenous\n",
    "\n",
    "# compute first linear gradient\n",
    "# J = jax.jacrev(get_data_only, argnums=0)(jnp.array(speed), density_homogenous, domain, time_axis, sources, element_positions)\n",
    "# linear_val_and_grad = value_and_grad(linear_loss, argnums=0)\n",
    "# linear_loss, linear_gradient = linear_val_and_grad(params, J, output_data)\n",
    "\n",
    "# compute first nonlinear gradient\n",
    "nonlinear_val_and_grad = value_and_grad(nonlinear_loss, argnums=0)\n",
    "nonlinear_loss, nonlinear_gradient = nonlinear_val_and_grad(params, rf_data[:, :, angle_idx], density_homogenous, domain, time_axis, sources, element_positions)\n",
    "nonlinear_gradient = nonlinear_gradient.at[:, 440:].set(0) # apply mask\n",
    "# nonlinear_gradient = nonlinear_gradient.at[:, :20].set(0) # apply mask\n",
    "print(f\"Nonlinear loss: {nonlinear_loss}\")"
   ]
  },
  {
   "cell_type": "code",
   "execution_count": null,
   "metadata": {},
   "outputs": [],
   "source": [
    "nonlinear_gradient.shape"
   ]
  },
  {
   "cell_type": "code",
   "execution_count": null,
   "metadata": {},
   "outputs": [],
   "source": [
    "# Viualize\n",
    "# plt.figure(figsize=(8, 6))\n",
    "plt.imshow(nonlinear_gradient.T[200:], cmap='gray')\n",
    "# plt.title(\"First gradient\")\n",
    "# plt.xlabel('x [gridpoints]')\n",
    "# plt.ylabel('y [gridpoints]')\n",
    "plt.gca().invert_yaxis()\n",
    "# plt.colorbar(shrink=0.55)\n",
    "# plt.show()"
   ]
  },
  {
   "cell_type": "code",
   "execution_count": null,
   "metadata": {},
   "outputs": [],
   "source": [
    "from jax.example_libraries import optimizers\n",
    "from tqdm import tqdm\n",
    "from jwave.signal_processing import smooth\n",
    "\n",
    "losshistory = []\n",
    "reconstructions = []\n",
    "num_steps = 100\n",
    "\n",
    "# Define optimizer\n",
    "# init_fun, update_fun, get_params = optimizers.adam(1)\n",
    "init_fun, update_fun, get_params = optimizers.sgd(1)\n",
    "# init_fun, update_fun, get_params = optimizers.momentum(1, 0.9)\n",
    "opt_state = init_fun(params)\n",
    "\n",
    "# Define and compile the update function\n",
    "@jit\n",
    "def update(opt_state, k):\n",
    "    v = get_params(opt_state)\n",
    "    lossval, gradient = nonlinear_val_and_grad(v, rf_data[:, :, angle_idx], density_homogenous, domain, time_axis, sources, element_positions)\n",
    "    # gradient = smooth(gradient)\n",
    "    gradient = gradient.at[:, 440:].set(0)\n",
    "    gradient = gradient / jnp.max(jnp.abs(gradient))\n",
    "    return lossval, update_fun(k, gradient, opt_state)\n",
    "\n",
    "# Main loop\n",
    "pbar = tqdm(range(num_steps))\n",
    "for k in pbar:\n",
    "    lossval, opt_state = update(opt_state, k)\n",
    "\n",
    "    ## For logging\n",
    "    new_params = get_params(opt_state)\n",
    "    reconstructions.append(new_params)\n",
    "    losshistory.append(lossval)\n",
    "    pbar.set_description(\"Loss: {}\".format(lossval))"
   ]
  },
  {
   "cell_type": "code",
   "execution_count": null,
   "metadata": {},
   "outputs": [],
   "source": [
    "# Viualize\n",
    "plt.figure(figsize=(8, 6))\n",
    "plt.imshow(reconstructions[-1].T, cmap='gray')\n",
    "plt.xlabel('x [gridpoints]')\n",
    "plt.ylabel('y [gridpoints]')\n",
    "plt.gca().invert_yaxis()\n",
    "plt.colorbar(shrink=0.55)\n",
    "plt.show()"
   ]
  },
  {
   "cell_type": "code",
   "execution_count": null,
   "metadata": {},
   "outputs": [],
   "source": []
  }
 ],
 "metadata": {
  "kernelspec": {
   "display_name": "Python 3",
   "language": "python",
   "name": "python3"
  },
  "language_info": {
   "codemirror_mode": {
    "name": "ipython",
    "version": 3
   },
   "file_extension": ".py",
   "mimetype": "text/x-python",
   "name": "python",
   "nbconvert_exporter": "python",
   "pygments_lexer": "ipython3",
   "version": "3.10.12"
  }
 },
 "nbformat": 4,
 "nbformat_minor": 2
}
