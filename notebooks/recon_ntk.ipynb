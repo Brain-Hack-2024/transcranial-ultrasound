{
 "cells": [
  {
   "cell_type": "code",
   "execution_count": null,
   "metadata": {},
   "outputs": [],
   "source": [
    "%load_ext autoreload\n",
    "%autoreload 2"
   ]
  },
  {
   "cell_type": "code",
   "execution_count": null,
   "metadata": {},
   "outputs": [],
   "source": [
    "import numpy as np\n",
    "import matplotlib.pyplot as plt\n",
    "\n",
    "from jax.lib import xla_bridge\n",
    "\n",
    "print(f\"Jax is using: {xla_bridge.get_backend().platform}\")\n",
    "\n",
    "import sys\n",
    "\n",
    "sys.path.append(\"../\")"
   ]
  },
  {
   "cell_type": "markdown",
   "metadata": {},
   "source": [
    "# Simulate data\n"
   ]
  },
  {
   "cell_type": "code",
   "execution_count": null,
   "metadata": {},
   "outputs": [],
   "source": [
    "# define linear ultrasound transducer (P4-1)\n",
    "nelements = 64\n",
    "element_pitch = 2.95e-4  # distance between transducer elements\n",
    "transducer_extent = (nelements - 1) * element_pitch  # length of the transducer [m]\n",
    "transducer_frequency = 1e6  # frequency of the transducer [Hz]\n",
    "transducer_magnitude = 1e6  # magnitude of the transducer [Pa]\n",
    "print(f\"Transducer extent: {transducer_extent:.3f} m\")"
   ]
  },
  {
   "cell_type": "code",
   "execution_count": null,
   "metadata": {},
   "outputs": [],
   "source": [
    "# define spatial parameters\n",
    "N = np.array([128, 128]).astype(int)  # grid size [grid points]\n",
    "dx = np.array([element_pitch, element_pitch])  # grid spacing [m]\n",
    "pml = np.array([20, 20])  # size of the perfectly matched layer [grid points]\n",
    "\n",
    "# define transducer position in domain\n",
    "transducer_depth = pml[1]  # depth of the transducer [grid points]\n",
    "transducer_x_start = (\n",
    "    N[0] // 2 - nelements // 2\n",
    ")  # start index of the transducer in the x-direction [grid points]\n",
    "element_positions = np.array(\n",
    "    [\n",
    "        np.linspace(transducer_x_start, transducer_x_start + nelements - 1, nelements),\n",
    "        (N[1] - transducer_depth) * np.ones(nelements),\n",
    "    ],\n",
    "    dtype=int,\n",
    ")"
   ]
  },
  {
   "cell_type": "code",
   "execution_count": null,
   "metadata": {},
   "outputs": [],
   "source": [
    "from utils.jwave_utils import get_domain, get_point_medium, get_homogeneous_medium\n",
    "\n",
    "# define jwave medium\n",
    "medium_params = {\n",
    "    \"c0\": 1500,  # speed of sound [m/s]\n",
    "    \"rho0\": 1000,  # density [kg/m^3]\n",
    "    \"background_mean\": 1,  # mean of the background noise\n",
    "    \"pml_size\": pml[0],  # size of the perfectly matched layer [grid points]\n",
    "}\n",
    "\n",
    "domain = get_domain(N, dx)\n",
    "speed_homogenous, density_homogenous = get_homogeneous_medium(\n",
    "    domain, **medium_params, background_std=0, background_seed=29\n",
    ")\n",
    "\n",
    "scatterer_positions = np.array(\n",
    "    [\n",
    "        [domain.N[0] // 2, domain.N[1] // 2 + 15],\n",
    "        [domain.N[0] // 2, domain.N[1] // 2],\n",
    "        [domain.N[0] // 2, domain.N[1] // 2 - 15],\n",
    "    ],\n",
    "    dtype=int,\n",
    ")\n",
    "speed, density = get_point_medium(\n",
    "    domain,\n",
    "    scatterer_positions,\n",
    "    **medium_params,\n",
    "    background_std=0.004,\n",
    "    scatterer_radius=3,\n",
    "    scatterer_contrast=1.1,\n",
    "    background_seed=28\n",
    ")\n",
    "\n",
    "ext = [0, N[0] * dx[0], N[1] * dx[1], 0]\n",
    "plt.scatter(\n",
    "    element_positions[0] * dx[0],\n",
    "    N[1] * dx[1] - element_positions[1] * dx[1],\n",
    "    c=\"r\",\n",
    "    marker=\"o\",\n",
    "    s=5,\n",
    "    label=\"transducer element\",\n",
    ")\n",
    "plt.imshow(np.rot90(speed), cmap=\"gray\", extent=[0, N[1] * dx[1], 0, N[0] * dx[0]])\n",
    "plt.colorbar(label=\"Speed of sound [m/s]\")\n",
    "plt.ylabel(\"[m]\")\n",
    "plt.xlabel(\"[m]\")\n",
    "plt.legend(prop={\"size\": 7})\n",
    "plt.gca().invert_yaxis()\n",
    "plt.show()"
   ]
  },
  {
   "cell_type": "code",
   "execution_count": null,
   "metadata": {},
   "outputs": [],
   "source": [
    "from jwave.geometry import TimeAxis\n",
    "from jwave.geometry import Medium\n",
    "from utils.jwave_utils import get_plane_wave_excitation\n",
    "\n",
    "signal_delay = 0\n",
    "time_axis = TimeAxis.from_medium(\n",
    "    Medium(domain, speed, density, pml_size=pml[0]), cfl=0.3\n",
    ")\n",
    "sources, signal, carrier_signal = get_plane_wave_excitation(\n",
    "    domain,\n",
    "    time_axis,\n",
    "    transducer_magnitude,\n",
    "    transducer_frequency,\n",
    "    element_positions,\n",
    "    signal_delay=signal_delay,\n",
    ")\n",
    "\n",
    "plt.plot(sources.signals[0])\n",
    "plt.xlabel(\"Time point\")\n",
    "plt.ylabel(\"Amplitude [Pa]\")\n",
    "plt.show()"
   ]
  },
  {
   "cell_type": "code",
   "execution_count": null,
   "metadata": {},
   "outputs": [],
   "source": [
    "from jwave_utils import get_data\n",
    "\n",
    "# simulate data using jwave\n",
    "pressure, data = get_data(speed, density, domain, time_axis, sources, element_positions)\n",
    "_, data_homogenous = get_data(\n",
    "    speed_homogenous, density_homogenous, domain, time_axis, sources, element_positions\n",
    ")"
   ]
  },
  {
   "cell_type": "code",
   "execution_count": null,
   "metadata": {},
   "outputs": [],
   "source": [
    "from jwave.utils import show_field\n",
    "\n",
    "t_idx = 200\n",
    "show_field(pressure[110])\n",
    "plt.title(f\"Pressure field at t={time_axis.to_array()[t_idx]} seconds\")\n",
    "plt.show()"
   ]
  },
  {
   "cell_type": "code",
   "execution_count": null,
   "metadata": {},
   "outputs": [],
   "source": [
    "plt.imshow(data, aspect=\"auto\", cmap=\"seismic\")\n",
    "plt.xlabel(\"Transducer elements\")\n",
    "plt.ylabel(\"Time point\")\n",
    "plt.show()"
   ]
  },
  {
   "cell_type": "code",
   "execution_count": null,
   "metadata": {},
   "outputs": [],
   "source": [
    "output_data = data - data_homogenous\n",
    "plt.imshow(output_data, aspect=\"auto\", cmap=\"seismic\")\n",
    "plt.xlabel(\"Transducer elements\")\n",
    "plt.ylabel(\"Time point\")\n",
    "plt.show()"
   ]
  },
  {
   "cell_type": "markdown",
   "metadata": {},
   "source": [
    "# NTK Beamforming\n"
   ]
  },
  {
   "cell_type": "code",
   "execution_count": null,
   "metadata": {},
   "outputs": [],
   "source": [
    "from imaging.demodulate import demodulate_rf_to_iq\n",
    "\n",
    "freq_sampling = 1 / time_axis.dt\n",
    "iq_signals, freq_carrier = demodulate_rf_to_iq(\n",
    "    output_data, freq_sampling, freq_carrier=transducer_frequency\n",
    ")"
   ]
  },
  {
   "cell_type": "code",
   "execution_count": null,
   "metadata": {},
   "outputs": [],
   "source": [
    "N = domain.N[0]\n",
    "Nz = N - transducer_depth\n",
    "dx0 = domain.dx[0]\n",
    "\n",
    "# Generate 1D arrays for x and z\n",
    "x = np.linspace(-(N // 2) * dx0, (N // 2) * dx0, N)\n",
    "z = np.linspace(0, Nz * dx0, Nz)\n",
    "\n",
    "# Create 2D meshgrid for x and z\n",
    "X, Z = np.meshgrid(x, z)"
   ]
  },
  {
   "cell_type": "code",
   "execution_count": null,
   "metadata": {},
   "outputs": [],
   "source": [
    "from imaging.beamform import beamform_delay_and_sum\n",
    "\n",
    "beamformed_signal = beamform_delay_and_sum(\n",
    "    iq_signals,\n",
    "    X,\n",
    "    Z,\n",
    "    freq_sampling,\n",
    "    freq_carrier,\n",
    "    pitch=dx0,\n",
    "    tx_delays=np.zeros(nelements),\n",
    ")"
   ]
  },
  {
   "cell_type": "code",
   "execution_count": null,
   "metadata": {},
   "outputs": [],
   "source": [
    "plt.imshow(np.abs(beamformed_signal), cmap=\"seismic\")\n",
    "plt.colorbar()\n",
    "plt.show()"
   ]
  }
 ],
 "metadata": {
  "kernelspec": {
   "display_name": "Python 3",
   "language": "python",
   "name": "python3"
  },
  "language_info": {
   "codemirror_mode": {
    "name": "ipython",
    "version": 3
   },
   "file_extension": ".py",
   "mimetype": "text/x-python",
   "name": "python",
   "nbconvert_exporter": "python",
   "pygments_lexer": "ipython3",
   "version": "3.9.2"
  }
 },
 "nbformat": 4,
 "nbformat_minor": 2
}
