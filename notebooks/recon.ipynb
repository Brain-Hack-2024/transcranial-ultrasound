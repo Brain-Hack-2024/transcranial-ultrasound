{
 "cells": [
  {
   "cell_type": "code",
   "execution_count": null,
   "metadata": {},
   "outputs": [],
   "source": [
    "%load_ext autoreload\n",
    "%autoreload 2"
   ]
  },
  {
   "cell_type": "code",
   "execution_count": null,
   "metadata": {},
   "outputs": [],
   "source": [
    "import numpy as np\n",
    "import jax.numpy as jnp\n",
    "import matplotlib.pyplot as plt\n",
    "\n",
    "from jax import jit\n",
    "from jax.lib import xla_bridge\n",
    "print(f\"Jax is using: {xla_bridge.get_backend().platform}\")\n",
    "\n",
    "import sys\n",
    "sys.path.append('../')"
   ]
  },
  {
   "cell_type": "markdown",
   "metadata": {},
   "source": [
    "# Simulate data"
   ]
  },
  {
   "cell_type": "code",
   "execution_count": null,
   "metadata": {},
   "outputs": [],
   "source": [
    "# define linear ultrasound transducer (P4-1)\n",
    "nelements = 64\n",
    "element_pitch = 2.95e-4 # distance between transducer elements\n",
    "transducer_extent = (nelements - 1) * element_pitch # length of the transducer [m]\n",
    "transducer_frequency = 1e6 # frequency of the transducer [Hz]\n",
    "transducer_magnitude = 1e6 # magnitude of the transducer [Pa]\n",
    "print(f\"Transducer extent: {transducer_extent:.3f} m\")"
   ]
  },
  {
   "cell_type": "code",
   "execution_count": null,
   "metadata": {},
   "outputs": [],
   "source": [
    "# define spatial parameters\n",
    "N = np.array([128, 128]).astype(int) # grid size [grid points]\n",
    "dx = np.array([element_pitch, element_pitch]) # grid spacing [m]\n",
    "pml = np.array([20, 20]) # size of the perfectly matched layer [grid points]\n",
    "\n",
    "# define transducer position in domain\n",
    "transducer_depth = pml[1] # depth of the transducer [grid points]\n",
    "transducer_x_start = N[0]//2 - nelements//2 # start index of the transducer in the x-direction [grid points]\n",
    "element_positions = np.array([\n",
    "    np.linspace(transducer_x_start, transducer_x_start + nelements - 1, nelements),\n",
    "    (N[1] - transducer_depth) * np.ones(nelements),\n",
    "], dtype=int)"
   ]
  },
  {
   "cell_type": "code",
   "execution_count": null,
   "metadata": {},
   "outputs": [],
   "source": [
    "from jwave_utils import get_domain, get_point_medium, get_homogeneous_medium\n",
    "\n",
    "# define jwave medium\n",
    "domain = get_domain(N, dx)\n",
    "medium = get_point_medium(domain, c0=1500, rho0=1000, scatterer_radius=2, pml_size=pml[0])\n",
    "medium_homogenous = get_homogeneous_medium(domain, c0=1500, rho0=1000, pml_size=pml[0])\n",
    "\n",
    "ext = [0, N[0]*dx[0], N[1]*dx[1], 0]\n",
    "plt.scatter(element_positions[1]*dx[1], element_positions[0]*dx[0],\n",
    "            c='r', marker='o', s=5, label='transducer element')\n",
    "plt.imshow(medium.sound_speed.params, cmap='gray', extent=ext)\n",
    "plt.colorbar(label='Speed of sound [m/s]')\n",
    "plt.xlabel('[m]')\n",
    "plt.ylabel('[m]')\n",
    "plt.legend(prop={'size': 7})\n",
    "plt.gca().invert_yaxis()\n",
    "plt.show()"
   ]
  },
  {
   "cell_type": "code",
   "execution_count": null,
   "metadata": {},
   "outputs": [],
   "source": [
    "from jwave.geometry import TimeAxis\n",
    "from jwave_utils import get_plane_wave_excitation\n",
    "\n",
    "delay_s = 0\n",
    "time_axis = TimeAxis.from_medium(medium, cfl=0.3)\n",
    "sources, ss, s = get_plane_wave_excitation(domain, time_axis, transducer_magnitude, transducer_frequency, element_positions, delay_s=delay_s)\n",
    "\n",
    "plt.plot(sources.signals[0])\n",
    "plt.xlabel('Time point')\n",
    "plt.ylabel('Amplitude [Pa]')\n",
    "plt.show()"
   ]
  },
  {
   "cell_type": "code",
   "execution_count": null,
   "metadata": {},
   "outputs": [],
   "source": [
    "from jwave_utils import get_data\n",
    "\n",
    "# simulate data using jwave\n",
    "pressure, data = get_data(medium, time_axis, sources, element_positions)\n",
    "_, data_homogenous = get_data(medium_homogenous, time_axis, sources, element_positions)"
   ]
  },
  {
   "cell_type": "code",
   "execution_count": null,
   "metadata": {},
   "outputs": [],
   "source": [
    "from jwave.utils import show_field\n",
    "\n",
    "t_idx = 200\n",
    "show_field(pressure[t_idx])\n",
    "plt.title(f\"Pressure field at t={time_axis.to_array()[t_idx]} seconds\")\n",
    "plt.show()"
   ]
  },
  {
   "cell_type": "code",
   "execution_count": null,
   "metadata": {},
   "outputs": [],
   "source": [
    "plt.imshow(data, aspect='auto', cmap='seismic')\n",
    "plt.xlabel('Transducer elements')\n",
    "plt.ylabel('Time point')\n",
    "plt.show()"
   ]
  },
  {
   "cell_type": "code",
   "execution_count": null,
   "metadata": {},
   "outputs": [],
   "source": [
    "output_data = data-data_homogenous\n",
    "plt.imshow(output_data, aspect='auto', cmap='seismic')\n",
    "plt.xlabel('Transducer elements')\n",
    "plt.ylabel('Time point')\n",
    "plt.show()"
   ]
  },
  {
   "cell_type": "markdown",
   "metadata": {},
   "source": [
    "# Beamforming"
   ]
  },
  {
   "cell_type": "code",
   "execution_count": null,
   "metadata": {},
   "outputs": [],
   "source": [
    "import torch\n",
    "\n",
    "c0=1500\n",
    "slope = delay_s * time_axis.dt * c0 / dx[0].item()\n",
    "oblique_factor = (slope*slope+1)**0.5\n",
    "\n",
    "s_stack_t = torch.from_numpy(np.asarray(jnp.vstack([ss[i] for i in range(element_positions.shape[1])]))).to(\"cuda:0\")\n",
    "s_stack_t /= torch.max(s_stack_t).item()\n",
    "\n",
    "def compute_time_delays_for_point(x1: np.ndarray, x: int, delta_y: int, c: float = c0):\n",
    "    scaled_y = delta_y * dx[1]\n",
    "    scaled_dx = (x1 - x) * dx[0]\n",
    "    return np.round((scaled_y * oblique_factor + np.sqrt(scaled_y*scaled_y + scaled_dx * scaled_dx)) / (c  * time_axis.dt)).astype(int).tolist()\n",
    "\n",
    "element_y = (N[1] - transducer_depth)\n",
    "\n",
    "s_t = torch.from_numpy(np.asarray(s)).to(\"cuda:0\")\n",
    "s_t /= torch.max(s_t).item()\n",
    "output_data_t = torch.from_numpy(np.asarray(output_data)).to(\"cuda:0\")\n",
    "element_positions_t = torch.from_numpy(element_positions[0]).to(\"cuda:0\")\n",
    "def compute_torch_signal(pt_x, pt_y):\n",
    "    delta_y = abs(element_y - pt_y)\n",
    "    delays = compute_time_delays_for_point(element_positions[0], pt_x, delta_y)\n",
    "    signal = torch.tensor([0.0]).to(\"cuda:0\")\n",
    "    slanted_x_coord = int(pt_x - slope * delta_y)\n",
    "    if slanted_x_coord > transducer_x_start + nelements - 1 or slanted_x_coord < transducer_x_start:\n",
    "        return np.array([0.0])\n",
    "    for i in range(len(delays)):\n",
    "        if abs(element_positions[0][i] - (pt_x - slope * delta_y)) < delta_y:\n",
    "            delta = delays[i]\n",
    "            signal += torch.dot(s_stack_t[slanted_x_coord - transducer_x_start, :-delta], output_data_t[delta:, i])\n",
    "    return signal * time_axis.dt"
   ]
  },
  {
   "cell_type": "code",
   "execution_count": null,
   "metadata": {},
   "outputs": [],
   "source": [
    "domain.N"
   ]
  },
  {
   "cell_type": "code",
   "execution_count": null,
   "metadata": {},
   "outputs": [],
   "source": [
    "# from beamforming_utils import compute_torch_signal\n",
    "\n",
    "# def get_results():\n",
    "#     results = np.array([[compute_torch_signal(i, j, output_data, domain, nelements, transducer_depth, transducer_x_start, ss, delay_s, time_axis, element_positions).item() for j in range(0, 128)] for i in range(0, 128)])\n",
    "#     return results\n",
    "def get_results():\n",
    "    results = np.array([[compute_torch_signal(i, j).item() for j in range(0, 128)] for i in range(0, 128)])\n",
    "    return results\n",
    "res = get_results()"
   ]
  },
  {
   "cell_type": "code",
   "execution_count": null,
   "metadata": {},
   "outputs": [],
   "source": [
    "from kwave.utils.filters import gaussian_filter\n",
    "from kwave.reconstruction.beamform import envelope_detection\n",
    "\n",
    "def postprocess_result(orig_res):\n",
    "    result = np.copy(orig_res)\n",
    "    for i in range(result.shape[0]):\n",
    "        result[i, :] = gaussian_filter(result[i, :], 1/dx[0], transducer_frequency, 100.0)\n",
    "    for i in range(result.shape[0]):\n",
    "        result[i, :] = envelope_detection(result[i, :])\n",
    "    # Plotting the heat map\n",
    "    plt.imshow(result, cmap='viridis', interpolation='nearest')\n",
    "\n",
    "    # Adding a color bar to show the scale\n",
    "    plt.colorbar()\n",
    "\n",
    "    # Display the heat map\n",
    "    plt.show()\n",
    "    return result\n",
    "\n",
    "a=postprocess_result(res)\n",
    "# plt.imshow(a, cmap='viridis', interpolation='nearest')"
   ]
  }
 ],
 "metadata": {
  "kernelspec": {
   "display_name": "Python 3",
   "language": "python",
   "name": "python3"
  },
  "language_info": {
   "codemirror_mode": {
    "name": "ipython",
    "version": 3
   },
   "file_extension": ".py",
   "mimetype": "text/x-python",
   "name": "python",
   "nbconvert_exporter": "python",
   "pygments_lexer": "ipython3",
   "version": "3.10.12"
  }
 },
 "nbformat": 4,
 "nbformat_minor": 2
}
