{
 "cells": [
  {
   "cell_type": "code",
   "execution_count": null,
   "metadata": {},
   "outputs": [],
   "source": [
    "%load_ext autoreload\n",
    "%autoreload 2"
   ]
  },
  {
   "cell_type": "code",
   "execution_count": null,
   "metadata": {},
   "outputs": [],
   "source": [
    "import numpy as np\n",
    "import jax.numpy as jnp\n",
    "import matplotlib.pyplot as plt\n",
    "\n",
    "import jax\n",
    "from jax import jit\n",
    "from jax.lib import xla_bridge\n",
    "print(f\"Jax is using: {xla_bridge.get_backend().platform}\")\n",
    "\n",
    "import sys\n",
    "sys.path.append('../')"
   ]
  },
  {
   "cell_type": "markdown",
   "metadata": {},
   "source": [
    "# Simulate data"
   ]
  },
  {
   "cell_type": "code",
   "execution_count": null,
   "metadata": {},
   "outputs": [],
   "source": [
    "# define linear ultrasound transducer (P4-1)\n",
    "nelements = 64\n",
    "element_pitch = 2.95e-4 # distance between transducer elements\n",
    "transducer_extent = (nelements - 1) * element_pitch # length of the transducer [m]\n",
    "transducer_frequency = 2e6 # frequency of the transducer [Hz]\n",
    "transducer_magnitude = 1e6 # magnitude of the transducer [Pa]\n",
    "print(f\"Transducer extent: {transducer_extent:.3f} m\")"
   ]
  },
  {
   "cell_type": "code",
   "execution_count": null,
   "metadata": {},
   "outputs": [],
   "source": [
    "# define spatial parameters\n",
    "N = np.array([128, 128]).astype(int) # grid size [grid points]\n",
    "dx = np.array([element_pitch, element_pitch]) # grid spacing [m]\n",
    "pml = np.array([20, 20]) # size of the perfectly matched layer [grid points]\n",
    "\n",
    "# define transducer position in domain\n",
    "transducer_depth = pml[1] # depth of the transducer [grid points]\n",
    "transducer_x_start = N[0]//2 - nelements//2 # start index of the transducer in the x-direction [grid points]\n",
    "element_positions = np.array([\n",
    "    np.linspace(transducer_x_start, transducer_x_start + nelements - 1, nelements),\n",
    "    (N[1] - transducer_depth) * np.ones(nelements),\n",
    "], dtype=int)\n",
    "element_positions"
   ]
  },
  {
   "cell_type": "code",
   "execution_count": null,
   "metadata": {},
   "outputs": [],
   "source": [
    "from utils.jwave_utils import get_domain, get_point_medium, get_homogeneous_medium\n",
    "\n",
    "# define jwave medium\n",
    "c0 = 1500 # speed of sound [m/s]\n",
    "medium_params = {\n",
    "    'c0': c0,  # speed of sound [m/s]\n",
    "    'rho0': 1000,  # density [kg/m^3]\n",
    "    'background_mean': 1,  # mean of the background noise\n",
    "    'pml_size': pml[0]  # size of the perfectly matched layer [grid points]\n",
    "}\n",
    "\n",
    "domain = get_domain(N, dx)\n",
    "speed_homogenous, density_homogenous = get_homogeneous_medium(domain, **medium_params, background_std=0, background_seed=29)\n",
    "\n",
    "scatterer_positions = np.array([[domain.N[0]//2, domain.N[1]//2 + 15],\n",
    "                                [domain.N[0]//2, domain.N[1]//2],\n",
    "                                [domain.N[0]//2+15, domain.N[1]//2 - 15]], dtype=int)\n",
    "speed, density = get_point_medium(domain, scatterer_positions, **medium_params, background_std = 0.000, scatterer_radius=1, scatterer_contrast=1.1, background_seed=28)\n",
    "# speed[:,element_positions[1][0]:] = 1500\n",
    "# density[:,element_positions[1][0]:] = 1000\n",
    "\n",
    "ext = [0, N[0]*dx[0], N[1]*dx[1], 0]\n",
    "plt.scatter(element_positions[1]*dx[1], element_positions[0]*dx[0],\n",
    "            c='r', marker='o', s=5, label='transducer element')\n",
    "plt.imshow(speed, cmap='gray', extent=ext)\n",
    "plt.colorbar(label='Speed of sound [m/s]')\n",
    "plt.xlabel('[m]')\n",
    "plt.ylabel('[m]')\n",
    "plt.legend(prop={'size': 7})\n",
    "plt.gca().invert_yaxis()\n",
    "plt.show()"
   ]
  },
  {
   "cell_type": "code",
   "execution_count": null,
   "metadata": {},
   "outputs": [],
   "source": [
    "from jwave.geometry import TimeAxis\n",
    "from jwave.geometry import Medium\n",
    "from utils.jwave_utils import get_plane_wave_excitation\n",
    "\n",
    "angle = 0 * np.pi / 180\n",
    "time_axis = TimeAxis.from_medium(Medium(domain, speed, density, pml_size=pml[0]), cfl=0.3)\n",
    "sources, signal, carrier_signal = get_plane_wave_excitation(domain, time_axis, transducer_magnitude, transducer_frequency, element_pitch, element_positions, angle=angle)\n",
    "\n",
    "plt.plot(sources.signals[10])\n",
    "plt.xlabel('Time point')\n",
    "plt.ylabel('Amplitude [Pa]')\n",
    "plt.show()"
   ]
  },
  {
   "cell_type": "code",
   "execution_count": null,
   "metadata": {},
   "outputs": [],
   "source": [
    "from utils.jwave_utils import get_data\n",
    "\n",
    "# simulate data using jwave\n",
    "pressure, data = get_data(speed, density, domain, time_axis, sources, element_positions)\n",
    "_, data_homogenous = get_data(speed_homogenous, density_homogenous, domain, time_axis, sources, element_positions)"
   ]
  },
  {
   "cell_type": "code",
   "execution_count": null,
   "metadata": {},
   "outputs": [],
   "source": [
    "from jwave.utils import show_field\n",
    "\n",
    "t_idx = 200\n",
    "show_field(pressure[t_idx])\n",
    "plt.title(f\"Pressure field at t={time_axis.to_array()[t_idx]} seconds\")\n",
    "plt.show()"
   ]
  },
  {
   "cell_type": "code",
   "execution_count": null,
   "metadata": {},
   "outputs": [],
   "source": [
    "plt.imshow(data, aspect='auto', cmap='seismic')\n",
    "plt.xlabel('Transducer elements')\n",
    "plt.ylabel('Time point')\n",
    "plt.show()"
   ]
  },
  {
   "cell_type": "code",
   "execution_count": null,
   "metadata": {},
   "outputs": [],
   "source": [
    "output_data = data-data_homogenous\n",
    "plt.imshow(output_data, aspect='auto', cmap='seismic')\n",
    "plt.xlabel('Transducer elements')\n",
    "plt.ylabel('Time point')\n",
    "plt.show()"
   ]
  },
  {
   "cell_type": "markdown",
   "metadata": {},
   "source": [
    "# Reconstruction"
   ]
  },
  {
   "cell_type": "markdown",
   "metadata": {},
   "source": [
    "## Single angle"
   ]
  },
  {
   "cell_type": "markdown",
   "metadata": {},
   "source": [
    "### Naive"
   ]
  },
  {
   "cell_type": "code",
   "execution_count": null,
   "metadata": {},
   "outputs": [],
   "source": [
    "from utils.beamforming_utils import get_receive_beamforming\n",
    "signal_delay = (element_pitch * np.sin(angle) / c0) / time_axis.dt \n",
    "res = get_receive_beamforming(domain, time_axis, element_positions, output_data, signal, carrier_signal, signal_delay)"
   ]
  },
  {
   "cell_type": "code",
   "execution_count": null,
   "metadata": {},
   "outputs": [],
   "source": [
    "plt.imshow(res.T, cmap='seismic')\n",
    "plt.colorbar()\n",
    "plt.gca().invert_yaxis()\n",
    "plt.show()"
   ]
  },
  {
   "cell_type": "code",
   "execution_count": null,
   "metadata": {},
   "outputs": [],
   "source": [
    "# from kwave.utils.filters import gaussian_filter\n",
    "# from kwave.reconstruction.beamform import envelope_detection\n",
    "\n",
    "# def postprocess_result(orig_res):\n",
    "#     result = np.copy(orig_res)\n",
    "#     for i in range(result.shape[0]):\n",
    "#         result[i, :] = gaussian_filter(result[i, :], 1/dx[0], transducer_frequency, 100.0)\n",
    "#     for i in range(result.shape[0]):\n",
    "#         result[i, :] = envelope_detection(result[i, :])\n",
    "#     return np.flipud(result).T\n",
    "\n",
    "# bmode=postprocess_result(res)\n",
    "# plt.imshow(bmode, cmap='seismic', interpolation='nearest')\n",
    "# plt.colorbar()\n",
    "# plt.gca().invert_yaxis()\n",
    "# plt.show()"
   ]
  },
  {
   "cell_type": "markdown",
   "metadata": {},
   "source": [
    "### ntk"
   ]
  },
  {
   "cell_type": "code",
   "execution_count": null,
   "metadata": {},
   "outputs": [],
   "source": [
    "from imaging.demodulate import demodulate_rf_to_iq\n",
    "freq_sampling = 1/time_axis.dt\n",
    "iq_signals, freq_carrier = demodulate_rf_to_iq(output_data, freq_sampling, freq_carrier=transducer_frequency)"
   ]
  },
  {
   "cell_type": "code",
   "execution_count": null,
   "metadata": {},
   "outputs": [],
   "source": [
    "Nz = domain.N[1] - transducer_depth\n",
    "dx0 = domain.dx[0]\n",
    "x = np.linspace(-(domain.N[0]//2)*dx0, (domain.N[0]//2)*dx0, domain.N[0])\n",
    "z = np.linspace(0, Nz*dx0, Nz)\n",
    "X, Z = np.meshgrid(x, z)"
   ]
  },
  {
   "cell_type": "code",
   "execution_count": null,
   "metadata": {},
   "outputs": [],
   "source": [
    "from imaging.beamform import beamform_delay_and_sum\n",
    "beamformed_signal = beamform_delay_and_sum(iq_signals, X, Z, freq_sampling, freq_carrier, pitch=element_pitch, tx_delays=np.zeros(nelements))"
   ]
  },
  {
   "cell_type": "code",
   "execution_count": null,
   "metadata": {},
   "outputs": [],
   "source": [
    "beamformed_signal_2 = beamformed_signal.copy()\n",
    "# beamformed_signal_2[:25, :] = 0\n",
    "\n",
    "plt.imshow(np.abs(beamformed_signal_2), cmap='seismic')\n",
    "plt.colorbar()\n",
    "plt.show()"
   ]
  },
  {
   "cell_type": "markdown",
   "metadata": {},
   "source": [
    "## Multiple angles"
   ]
  },
  {
   "cell_type": "code",
   "execution_count": null,
   "metadata": {},
   "outputs": [],
   "source": [
    "angles = np.linspace(-30*np.pi/180, 30*np.pi/180, 20)\n",
    "results_naive = []\n",
    "results_ntk = []\n",
    "for angle in angles:\n",
    "    print(f\"Plane wave angle: {angle * 180 / np.pi:.2f} degrees\")\n",
    "    sources, signal, carrier_signal = get_plane_wave_excitation(domain, time_axis, transducer_magnitude, transducer_frequency, element_pitch, element_positions, angle=angle)\n",
    "    _, data = get_data(speed, density, domain, time_axis, sources, element_positions)\n",
    "    _, data_homogenous = get_data(speed_homogenous, density_homogenous, domain, time_axis, sources, element_positions)\n",
    "    output_data = data-data_homogenous\n",
    "    \n",
    "    # naive beamforming\n",
    "    # signal_delay = (element_pitch * np.sin(angle) / c0) / time_axis.dt\n",
    "    # naive = get_receive_beamforming(domain, time_axis, element_positions, output_data, signal, carrier_signal, signal_delay)\n",
    "    # results_naive.append(naive)\n",
    "\n",
    "    # NTK beamforming\n",
    "    signal_delay = (element_pitch * np.sin(angle) / c0)\n",
    "    signal_delays = []\n",
    "    for i in range(nelements):\n",
    "        if angle < 0:\n",
    "            signal_delays.append(i * signal_delay * time_axis.dt)\n",
    "        elif angle > 0:\n",
    "            signal_delays.append((i-nelements) * signal_delay * time_axis.dt)\n",
    "        else:\n",
    "            signal_delays.append(0)\n",
    "    # shift = np.abs(int((transducer_extent * np.tan(angle) / domain.dx[0])))\n",
    "\n",
    "    iq_signals, freq_carrier = demodulate_rf_to_iq(output_data, freq_sampling, freq_carrier=transducer_frequency)\n",
    "    ntk = beamform_delay_and_sum(iq_signals, X, Z, freq_sampling, freq_carrier, pitch=element_pitch, tx_delays=np.array(signal_delays))\n",
    "    ntk = np.flipud(ntk)\n",
    "    # ntk = np.roll(ntk, shift, axis=0)\n",
    "    results_ntk.append(ntk)"
   ]
  },
  {
   "cell_type": "code",
   "execution_count": null,
   "metadata": {},
   "outputs": [],
   "source": [
    "compounded_naive = np.sum(results_naive, axis=0)\n",
    "compounded_ntk = np.sum(results_ntk, axis=0)\n",
    "\n",
    "plt.imshow(np.abs(compounded_ntk), cmap='seismic', interpolation='nearest')\n",
    "# plt.imshow(np.abs(results_ntk[0]), cmap='seismic', interpolation='nearest')\n",
    "plt.colorbar()\n",
    "plt.gca().invert_yaxis()\n",
    "plt.show()"
   ]
  },
  {
   "cell_type": "markdown",
   "metadata": {},
   "source": [
    "## Gradient"
   ]
  },
  {
   "cell_type": "code",
   "execution_count": null,
   "metadata": {},
   "outputs": [],
   "source": [
    "from jax import value_and_grad\n",
    "from utils.jwave_utils import get_data_only\n",
    "from utils.solver_utils import linear_loss, nonlinear_loss\n",
    "\n",
    "params = speed_homogenous\n",
    "\n",
    "# compute first linear gradient\n",
    "# J = jax.jacrev(get_data_only, argnums=0)(jnp.array(speed), density_homogenous, domain, time_axis, sources, element_positions)\n",
    "# linear_val_and_grad = value_and_grad(linear_loss, argnums=0)\n",
    "# linear_loss, linear_gradient = linear_val_and_grad(params, J, output_data)\n",
    "\n",
    "# compute first nonlinear gradient\n",
    "nonlinear_val_and_grad = value_and_grad(nonlinear_loss, argnums=0)\n",
    "nonlinear_loss, nonlinear_gradient = nonlinear_val_and_grad(params, data, density_homogenous, domain, time_axis, sources, element_positions)\n",
    "# nonlinear_gradient = nonlinear_gradient.at[:, 90:].set(0) # apply mask\n",
    "print(f\"Nonlinear loss: {nonlinear_loss}\")"
   ]
  },
  {
   "cell_type": "code",
   "execution_count": null,
   "metadata": {},
   "outputs": [],
   "source": [
    "# Viualize\n",
    "plt.figure(figsize=(8, 6))\n",
    "plt.imshow(nonlinear_gradient.T, cmap='seismic')\n",
    "plt.title(\"First gradient\")\n",
    "plt.xlabel('x [gridpoints]')\n",
    "plt.ylabel('y [gridpoints]')\n",
    "plt.gca().invert_yaxis()\n",
    "plt.colorbar(shrink=0.55)\n",
    "plt.show()"
   ]
  },
  {
   "cell_type": "code",
   "execution_count": null,
   "metadata": {},
   "outputs": [],
   "source": [
    "from jax.example_libraries import optimizers\n",
    "from tqdm import tqdm\n",
    "from jwave.signal_processing import smooth\n",
    "\n",
    "losshistory = []\n",
    "reconstructions = []\n",
    "num_steps = 100\n",
    "\n",
    "# Define optimizer\n",
    "# init_fun, update_fun, get_params = optimizers.adam(1, 0.9, 0.9)\n",
    "init_fun, update_fun, get_params = optimizers.sgd(1)\n",
    "opt_state = init_fun(params)\n",
    "\n",
    "# Define and compile the update function\n",
    "@jit\n",
    "def update(opt_state, k):\n",
    "    v = get_params(opt_state)\n",
    "    lossval, gradient = nonlinear_val_and_grad(v, data, density_homogenous, domain, time_axis, sources, element_positions)\n",
    "    # gradient = smooth(gradient)\n",
    "    # gradient = gradient.at[:, 90:].set(0)\n",
    "    gradient = gradient / jnp.max(jnp.abs(gradient))\n",
    "    return lossval, update_fun(k, gradient, opt_state)\n",
    "\n",
    "# Main loop\n",
    "pbar = tqdm(range(num_steps))\n",
    "for k in pbar:\n",
    "    lossval, opt_state = update(opt_state, k)\n",
    "\n",
    "    ## For logging\n",
    "    new_params = get_params(opt_state)\n",
    "    reconstructions.append(new_params)\n",
    "    losshistory.append(lossval)\n",
    "    pbar.set_description(\"Loss: {}\".format(lossval))"
   ]
  },
  {
   "cell_type": "code",
   "execution_count": null,
   "metadata": {},
   "outputs": [],
   "source": [
    "# Viualize\n",
    "plt.figure(figsize=(8, 6))\n",
    "plt.imshow(reconstructions[-1].T, cmap='seismic')\n",
    "plt.xlabel('x [gridpoints]')\n",
    "plt.ylabel('y [gridpoints]')\n",
    "plt.gca().invert_yaxis()\n",
    "plt.colorbar(shrink=0.55)\n",
    "plt.show()"
   ]
  }
 ],
 "metadata": {
  "kernelspec": {
   "display_name": "Python 3",
   "language": "python",
   "name": "python3"
  },
  "language_info": {
   "codemirror_mode": {
    "name": "ipython",
    "version": 3
   },
   "file_extension": ".py",
   "mimetype": "text/x-python",
   "name": "python",
   "nbconvert_exporter": "python",
   "pygments_lexer": "ipython3",
   "version": "3.10.12"
  }
 },
 "nbformat": 4,
 "nbformat_minor": 2
}
