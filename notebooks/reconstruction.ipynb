{
 "cells": [
  {
   "cell_type": "code",
   "execution_count": null,
   "metadata": {},
   "outputs": [],
   "source": [
    "%load_ext autoreload\n",
    "%autoreload 2"
   ]
  },
  {
   "cell_type": "code",
   "execution_count": null,
   "metadata": {},
   "outputs": [],
   "source": [
    "import numpy as np\n",
    "import jax.numpy as jnp\n",
    "import matplotlib.pyplot as plt\n",
    "\n",
    "from jax import jit\n",
    "from jax.lib import xla_bridge\n",
    "print(f\"Jax is using: {xla_bridge.get_backend().platform}\")"
   ]
  },
  {
   "cell_type": "markdown",
   "metadata": {},
   "source": [
    "# Setup"
   ]
  },
  {
   "cell_type": "markdown",
   "metadata": {},
   "source": [
    "## Transducer"
   ]
  },
  {
   "cell_type": "code",
   "execution_count": null,
   "metadata": {},
   "outputs": [],
   "source": [
    "# define linear ultrasound transducer (P4-1)\n",
    "nelements = 64\n",
    "element_pitch = 2.95e-4 # distance between transducer elements\n",
    "transducer_extent = (nelements - 1) * element_pitch # length of the transducer [m]\n",
    "transducer_frequency = 1e6 # frequency of the transducer [Hz]\n",
    "transducer_magnitude = 1e6 # magnitude of the transducer [Pa]\n",
    "print(f\"Transducer extent: {transducer_extent:.3f} m\")"
   ]
  },
  {
   "cell_type": "markdown",
   "metadata": {},
   "source": [
    "## Domain"
   ]
  },
  {
   "cell_type": "code",
   "execution_count": null,
   "metadata": {},
   "outputs": [],
   "source": [
    "# define spatial domain\n",
    "N = np.array([128, 128]).astype(int) # grid size [grid points]\n",
    "dx = np.array([element_pitch, element_pitch]) # grid spacing [m]\n",
    "extent = N * dx # grid size [m]\n",
    "pml = np.array([20, 20]) # size of the perfectly matched layer [grid points]\n",
    "print(f\"Number of grid points: {N}\\nGrid size: {extent} m\\nGrid spacing: {dx} m\")\n",
    "assert transducer_extent < extent[0] - 2*pml[0]*dx[0], \"Transducer extent is larger than grid size\"\n",
    "\n",
    "from jwave.geometry import Domain\n",
    "domain = Domain((N[0],N[1]), (dx[0], dx[1]))"
   ]
  },
  {
   "cell_type": "code",
   "execution_count": null,
   "metadata": {},
   "outputs": [],
   "source": [
    "# define transducer positions in spatial domain\n",
    "transducer_depth = pml[1] # depth of the transducer [grid points]\n",
    "transducer_x_start = N[0]//2 - nelements//2 # start index of the transducer in the x-direction [grid points]\n",
    "element_positions = np.array([\n",
    "    np.linspace(transducer_x_start, transducer_x_start + nelements - 1, nelements),\n",
    "    (N[1] - transducer_depth) * np.ones(nelements),\n",
    "], dtype=int)\n",
    "\n",
    "# from jwave.geometry import Sensors\n",
    "# sensors = Sensors(positions=(element_positions[0], element_positions[1]))"
   ]
  },
  {
   "cell_type": "markdown",
   "metadata": {},
   "source": [
    "## Acoustic medium"
   ]
  },
  {
   "cell_type": "code",
   "execution_count": null,
   "metadata": {},
   "outputs": [],
   "source": [
    "np.random.seed(28)\n",
    "\n",
    "# define reference properties\n",
    "c0 = 1500 # reference speed of sound [m/s]\n",
    "rho0 = 1000 # reference density [kg/m^3]\n",
    "\n",
    "# define a random distribution of scatterers for the medium\n",
    "background_map_mean = 1\n",
    "background_map_std = 0.008\n",
    "background_map = background_map_mean + background_map_std * np.random.randn(N[0], N[1])\n",
    "sound_speed = c0 * np.ones(N) * background_map\n",
    "density = rho0 * np.ones(N) * background_map\n",
    "\n",
    "# define highly scattering region\n",
    "scatterer_radius = 2 # radius of scatterers [grid points]\n",
    "scatterer_contrast = 1.1 # contrast of scatterers\n",
    "scatterer_positions = np.array([[N[0]//2, N[1]//2]], dtype=int)\n",
    "scatterer_map = np.zeros(N)\n",
    "x, y = np.ogrid[:N[0], :N[1]]\n",
    "for scatterer_position in scatterer_positions:\n",
    "    scatterer_map[(x - scatterer_position[0])**2 + (y - scatterer_position[1])**2 <= (scatterer_radius)**2] = 1\n",
    "sound_speed[scatterer_map == 1] = c0*scatterer_contrast\n",
    "density[scatterer_map == 1] = rho0*scatterer_contrast\n",
    "\n",
    "# define medium\n",
    "from jwave import FourierSeries\n",
    "from jwave.geometry import Medium\n",
    "sound_speed = FourierSeries(np.expand_dims(sound_speed, -1), domain)\n",
    "density = FourierSeries(np.expand_dims(density, -1), domain)\n",
    "medium = Medium(domain=domain, sound_speed=sound_speed, density=density, pml_size=pml[0])\n",
    "print(medium)\n"
   ]
  },
  {
   "cell_type": "code",
   "execution_count": null,
   "metadata": {},
   "outputs": [],
   "source": [
    "ext = [0, N[0]*dx[0], N[1]*dx[1], 0]\n",
    "plt.scatter(element_positions[1]*dx[1], element_positions[0]*dx[0],\n",
    "            c='r', marker='o', s=5, label='transducer element')\n",
    "plt.imshow(sound_speed.params, cmap='gray', extent=ext)\n",
    "plt.colorbar(label='Speed of sound [m/s]')\n",
    "plt.xlabel('[m]')\n",
    "plt.ylabel('[m]')\n",
    "plt.legend(prop={'size': 7})  # Decreased the size of the legend\n",
    "plt.gca().invert_yaxis()\n",
    "plt.show()"
   ]
  },
  {
   "cell_type": "markdown",
   "metadata": {},
   "source": [
    "## Time"
   ]
  },
  {
   "cell_type": "code",
   "execution_count": null,
   "metadata": {},
   "outputs": [],
   "source": [
    "from jwave.geometry import TimeAxis\n",
    "\n",
    "time_axis = TimeAxis.from_medium(medium, cfl=0.3)"
   ]
  },
  {
   "cell_type": "markdown",
   "metadata": {},
   "source": [
    "## Source"
   ]
  },
  {
   "cell_type": "code",
   "execution_count": null,
   "metadata": {},
   "outputs": [],
   "source": [
    "from jwave.signal_processing import gaussian_window\n",
    "\n",
    "t = jnp.arange(0, time_axis.t_end, time_axis.dt)\n",
    "s = transducer_magnitude * jnp.sin(2 * jnp.pi * transducer_frequency * t)\n",
    "variance = 2/transducer_frequency\n",
    "mean = 3*variance\n",
    "s = gaussian_window(s, t, mean, variance)\n",
    "\n",
    "plt.plot(s)\n",
    "plt.xlabel('Time point')\n",
    "plt.ylabel('Amplitude [Pa]')\n",
    "plt.show()"
   ]
  },
  {
   "cell_type": "code",
   "execution_count": null,
   "metadata": {},
   "outputs": [],
   "source": [
    "from jwave.geometry import Sources\n",
    "\n",
    "sources = Sources(\n",
    "    positions=tuple(map(tuple, element_positions)),\n",
    "    signals=jnp.vstack([s for _ in range(element_positions.shape[1])]),\n",
    "    dt=time_axis.dt,\n",
    "    domain=domain,\n",
    ")"
   ]
  },
  {
   "cell_type": "markdown",
   "metadata": {},
   "source": [
    "# Run simulation"
   ]
  },
  {
   "cell_type": "code",
   "execution_count": null,
   "metadata": {},
   "outputs": [],
   "source": [
    "from jwave.acoustics import simulate_wave_propagation\n",
    "\n",
    "@jit\n",
    "def compiled_simulator(sources):\n",
    "    pressure = simulate_wave_propagation(medium, time_axis, sources=sources)\n",
    "    return pressure"
   ]
  },
  {
   "cell_type": "code",
   "execution_count": null,
   "metadata": {},
   "outputs": [],
   "source": [
    "pressure = compiled_simulator(sources)"
   ]
  },
  {
   "cell_type": "code",
   "execution_count": null,
   "metadata": {},
   "outputs": [],
   "source": [
    "from jwave.utils import show_field\n",
    "\n",
    "t_idx = 100\n",
    "show_field(pressure[t_idx])\n",
    "plt.title(f\"Pressure field at t={time_axis.to_array()[t_idx]} seconds\")\n",
    "plt.show()"
   ]
  },
  {
   "cell_type": "code",
   "execution_count": null,
   "metadata": {},
   "outputs": [],
   "source": [
    "data = np.squeeze(pressure.params[:, element_positions[0], element_positions[1]])"
   ]
  },
  {
   "cell_type": "code",
   "execution_count": null,
   "metadata": {},
   "outputs": [],
   "source": [
    "plt.imshow(data, aspect='auto', cmap='seismic')\n",
    "plt.xlabel('Transducer elements')\n",
    "plt.ylabel('Time point')\n",
    "plt.show()"
   ]
  },
  {
   "cell_type": "markdown",
   "metadata": {},
   "source": [
    "# Beamforming"
   ]
  },
  {
   "cell_type": "markdown",
   "metadata": {},
   "source": []
  }
 ],
 "metadata": {
  "kernelspec": {
   "display_name": "brainhackFUS",
   "language": "python",
   "name": "python3"
  },
  "language_info": {
   "codemirror_mode": {
    "name": "ipython",
    "version": 3
   },
   "file_extension": ".py",
   "mimetype": "text/x-python",
   "name": "python",
   "nbconvert_exporter": "python",
   "pygments_lexer": "ipython3",
   "version": "3.12.4"
  }
 },
 "nbformat": 4,
 "nbformat_minor": 2
}
