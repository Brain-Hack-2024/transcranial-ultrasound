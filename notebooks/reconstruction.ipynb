{
 "cells": [
  {
   "cell_type": "code",
   "execution_count": null,
   "metadata": {},
   "outputs": [],
   "source": [
    "%load_ext autoreload\n",
    "%autoreload 2"
   ]
  },
  {
   "cell_type": "code",
   "execution_count": null,
   "metadata": {},
   "outputs": [],
   "source": [
    "import numpy as np\n",
    "import jax.numpy as jnp\n",
    "import matplotlib.pyplot as plt\n",
    "\n",
    "from jax import jit\n",
    "from jax.lib import xla_bridge\n",
    "print(f\"Jax is using: {xla_bridge.get_backend().platform}\")"
   ]
  },
  {
   "cell_type": "code",
   "execution_count": null,
   "metadata": {},
   "outputs": [],
   "source": [
    "import sys\n",
    "sys.path.append('../')\n",
    "\n",
    "from jwave_utils import get_domain, get_point_medium, get_plane_wave_excitation, get_data"
   ]
  },
  {
   "cell_type": "markdown",
   "metadata": {},
   "source": [
    "# Simulate data"
   ]
  },
  {
   "cell_type": "code",
   "execution_count": null,
   "metadata": {},
   "outputs": [],
   "source": [
    "# define linear ultrasound transducer (P4-1)\n",
    "nelements = 64\n",
    "element_pitch = 2.95e-4 # distance between transducer elements\n",
    "transducer_extent = (nelements - 1) * element_pitch # length of the transducer [m]\n",
    "transducer_frequency = 1e6 # frequency of the transducer [Hz]\n",
    "transducer_magnitude = 1e6 # magnitude of the transducer [Pa]\n",
    "print(f\"Transducer extent: {transducer_extent:.3f} m\")"
   ]
  },
  {
   "cell_type": "code",
   "execution_count": null,
   "metadata": {},
   "outputs": [],
   "source": [
    "# define spatial parameters\n",
    "N = np.array([128, 128]).astype(int) # grid size [grid points]\n",
    "dx = np.array([element_pitch, element_pitch]) # grid spacing [m]\n",
    "pml = np.array([20, 20]) # size of the perfectly matched layer [grid points]\n",
    "\n",
    "# define transducer position in domain\n",
    "transducer_depth = pml[1] # depth of the transducer [grid points]\n",
    "transducer_x_start = N[0]//2 - nelements//2 # start index of the transducer in the x-direction [grid points]\n",
    "element_positions = np.array([\n",
    "    np.linspace(transducer_x_start, transducer_x_start + nelements - 1, nelements),\n",
    "    (N[1] - transducer_depth) * np.ones(nelements),\n",
    "], dtype=int)"
   ]
  },
  {
   "cell_type": "code",
   "execution_count": null,
   "metadata": {},
   "outputs": [],
   "source": [
    "# define jwave medium\n",
    "domain = get_domain(N, dx)\n",
    "medium = get_point_medium(domain, rho0=1000, c0=1500, scatterer_radius=2, pml_size=pml[0])\n",
    "\n",
    "ext = [0, N[0]*dx[0], N[1]*dx[1], 0]\n",
    "plt.scatter(element_positions[1]*dx[1], element_positions[0]*dx[0],\n",
    "            c='r', marker='o', s=5, label='transducer element')\n",
    "plt.imshow(medium.sound_speed.params, cmap='gray', extent=ext)\n",
    "plt.colorbar(label='Speed of sound [m/s]')\n",
    "plt.xlabel('[m]')\n",
    "plt.ylabel('[m]')\n",
    "plt.legend(prop={'size': 7})\n",
    "plt.gca().invert_yaxis()\n",
    "plt.show()"
   ]
  },
  {
   "cell_type": "code",
   "execution_count": null,
   "metadata": {},
   "outputs": [],
   "source": [
    "from jwave.geometry import TimeAxis\n",
    "time_axis = TimeAxis.from_medium(medium, cfl=0.3)\n",
    "sources = get_plane_wave_excitation(domain, time_axis, transducer_magnitude, transducer_frequency, element_positions)\n",
    "\n",
    "plt.plot(sources.signals[0])\n",
    "plt.xlabel('Time point')\n",
    "plt.ylabel('Amplitude [Pa]')\n",
    "plt.show()"
   ]
  },
  {
   "cell_type": "code",
   "execution_count": null,
   "metadata": {},
   "outputs": [],
   "source": [
    "# simulate data using jwave\n",
    "pressure, data = get_data(medium, time_axis, sources, element_positions)"
   ]
  },
  {
   "cell_type": "code",
   "execution_count": null,
   "metadata": {},
   "outputs": [],
   "source": [
    "from jwave.utils import show_field\n",
    "\n",
    "t_idx = 300\n",
    "show_field(pressure[t_idx])\n",
    "plt.title(f\"Pressure field at t={time_axis.to_array()[t_idx]} seconds\")\n",
    "plt.show()"
   ]
  },
  {
   "cell_type": "code",
   "execution_count": null,
   "metadata": {},
   "outputs": [],
   "source": [
    "plt.imshow(data, aspect='auto', cmap='seismic')\n",
    "plt.xlabel('Transducer elements')\n",
    "plt.ylabel('Time point')\n",
    "plt.show()"
   ]
  },
  {
   "cell_type": "code",
   "execution_count": null,
   "metadata": {},
   "outputs": [],
   "source": [
    "input_signal = np.stack([s for _ in range(nelements)], axis=1)\n",
    "output_data = data - input_signal\n",
    "plt.imshow(output_data, aspect='auto', cmap='seismic')\n",
    "plt.xlabel('Transducer elements')\n",
    "plt.ylabel('Time point')\n",
    "plt.show()"
   ]
  },
  {
   "cell_type": "markdown",
   "metadata": {},
   "source": [
    "# Beamforming"
   ]
  },
  {
   "cell_type": "code",
   "execution_count": null,
   "metadata": {},
   "outputs": [],
   "source": [
    "def compute_time_delays_for_point(x1: np.ndarray, x: int, delta_y: int, c: float = c0):\n",
    "    scaled_y = delta_y * dx[1]\n",
    "    scaled_dx = (x1 - x) * dx[0]\n",
    "    return (scaled_y + np.sqrt(scaled_y*scaled_y + scaled_dx * scaled_dx)) / c\n",
    "\n",
    "element_y = (N[1] - transducer_depth)\n",
    "\n",
    "T=500\n",
    "\n",
    "def compute_signal(pt_x, pt_y, time=T):\n",
    "    delta_y = abs(element_y - pt_y)\n",
    "    times = time - np.round(compute_time_delays_for_point(element_positions[0], pt_x, delta_y) / time_axis.dt).astype(int)\n",
    "    # array that looks like [[time1, time2, ...], [32, 33, ...]]\n",
    "    augmented_times = np.stack([times, element_positions[0]])\n",
    "    # check the time is within the simulation\n",
    "    augmented_times = augmented_times[:, 0 < augmented_times[0]]\n",
    "    augmented_times = augmented_times[:, augmented_times[0] < output_data.shape[0]]\n",
    "    # check that the sensor index is within bounds\n",
    "    augmented_times = augmented_times[:, np.abs(augmented_times[1] - pt_x) < delta_y].tolist()\n",
    "    return np.sum(output_data[augmented_times[0], augmented_times[1]]).item() * time_axis.dt"
   ]
  },
  {
   "cell_type": "code",
   "execution_count": null,
   "metadata": {},
   "outputs": [],
   "source": [
    "def time_t_results(t):\n",
    "    results = np.array([[compute_signal(i, j, t) for j in range(0, 128)] for i in range(0, 128)])\n",
    "    return results\n",
    "\n",
    "res100 = time_t_results(100)\n",
    "res200 = time_t_results(200)\n",
    "res300 = time_t_results(300)\n",
    "res400 = time_t_results(400)\n",
    "res500 = time_t_results(500)\n",
    "res600 = time_t_results(600)"
   ]
  },
  {
   "cell_type": "code",
   "execution_count": null,
   "metadata": {},
   "outputs": [],
   "source": [
    "from kwave.utils.filters import gaussian_filter\n",
    "from kwave.reconstruction.beamform import envelope_detection\n",
    "\n",
    "def postprocess_result(result):\n",
    "    for i in range(result.shape[0]):\n",
    "        result[i, :] = gaussian_filter(result[i, :], 1/dx[0], transducer_frequency, 100.0)\n",
    "    for i in range(result.shape[0]):\n",
    "        result[i, :] = envelope_detection(result[i, :])\n",
    "    # Plotting the heat map\n",
    "    plt.imshow(result, cmap='viridis', interpolation='nearest')\n",
    "\n",
    "    # Adding a color bar to show the scale\n",
    "    plt.colorbar()\n",
    "\n",
    "    # Display the heat map\n",
    "    plt.show()\n",
    "    return result\n",
    "\n",
    "for i in [res100]: #, res200, res300, res400, res500, res600]:\n",
    "    postprocess_result(i)"
   ]
  },
  {
   "cell_type": "code",
   "execution_count": null,
   "metadata": {},
   "outputs": [],
   "source": []
  }
 ],
 "metadata": {
  "kernelspec": {
   "display_name": "brainhackFUS",
   "language": "python",
   "name": "python3"
  },
  "language_info": {
   "codemirror_mode": {
    "name": "ipython",
    "version": 3
   },
   "file_extension": ".py",
   "mimetype": "text/x-python",
   "name": "python",
   "nbconvert_exporter": "python",
   "pygments_lexer": "ipython3",
   "version": "3.12.4"
  }
 },
 "nbformat": 4,
 "nbformat_minor": 2
}
