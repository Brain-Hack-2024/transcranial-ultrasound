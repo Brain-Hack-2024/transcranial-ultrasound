{
 "cells": [
  {
   "cell_type": "code",
   "execution_count": null,
   "metadata": {},
   "outputs": [],
   "source": [
    "%load_ext autoreload\n",
    "%autoreload 2"
   ]
  },
  {
   "cell_type": "code",
   "execution_count": null,
   "metadata": {},
   "outputs": [],
   "source": [
    "import numpy as np\n",
    "import jax.numpy as jnp\n",
    "import matplotlib.pyplot as plt\n",
    "\n",
    "import jax\n",
    "from jax import jit\n",
    "from jax.lib import xla_bridge\n",
    "print(f\"Jax is using: {xla_bridge.get_backend().platform}\")"
   ]
  },
  {
   "cell_type": "code",
   "execution_count": null,
   "metadata": {},
   "outputs": [],
   "source": [
    "import sys\n",
    "sys.path.append('../')\n",
    "\n",
    "from jwave_utils import get_domain, get_skull_point_medium, get_plane_wave_excitation, get_data"
   ]
  },
  {
   "cell_type": "markdown",
   "metadata": {},
   "source": [
    "# Simulate data"
   ]
  },
  {
   "cell_type": "code",
   "execution_count": null,
   "metadata": {},
   "outputs": [],
   "source": [
    "# define linear ultrasound transducer (P4-1)\n",
    "nelements = 64\n",
    "element_pitch = 2.95e-4 # distance between transducer elements\n",
    "transducer_extent = (nelements - 1) * element_pitch # length of the transducer [m]\n",
    "transducer_frequency = 1e6 # frequency of the transducer [Hz]\n",
    "transducer_magnitude = 1e6 # magnitude of the transducer [Pa]\n",
    "print(f\"Transducer extent: {transducer_extent:.3f} m\")"
   ]
  },
  {
   "cell_type": "code",
   "execution_count": null,
   "metadata": {},
   "outputs": [],
   "source": [
    "# define skull slice\n",
    "\n",
    "import pydicom\n",
    "skull_dicom = pydicom.dcmread(\"../data/skull_slice.dcm\")\n",
    "skull_array = skull_dicom.pixel_array.astype(np.int16)\n",
    "skull_array = skull_array[:500, 200:-200]\n",
    "skull_array = np.flipud(skull_array)\n",
    "downsampling_factor = 2\n",
    "new_shape = (skull_array.shape[0] // downsampling_factor, skull_array.shape[1] // downsampling_factor)\n",
    "skull_array = jax.image.resize(skull_array, new_shape, method='nearest')\n",
    "plt.imshow(skull_array, cmap='gray')\n",
    "plt.gca().invert_yaxis()\n",
    "plt.show()"
   ]
  },
  {
   "cell_type": "code",
   "execution_count": null,
   "metadata": {},
   "outputs": [],
   "source": [
    "# define spatial parameters\n",
    "N = np.array(skull_array.shape).astype(int) # grid size [grid points]\n",
    "dx = np.array([9.07935931401377e-5*downsampling_factor, 9.07935931401377e-5*downsampling_factor]) # grid spacing [m]\n",
    "pml = np.array([20, 20]) # size of the perfectly matched layer [grid points]"
   ]
  },
  {
   "cell_type": "code",
   "execution_count": null,
   "metadata": {},
   "outputs": [],
   "source": [
    "# define transducer position in domain\n",
    "transducer_depth = pml[1] # depth of the transducer [grid points]\n",
    "transducer_x_start = N[1]//2 - nelements//2 * element_pitch // dx[1] # start index of the transducer in the x-direction [grid points]\n",
    "element_positions = np.array([\n",
    "    (N[0] - transducer_depth) * np.ones(nelements),\n",
    "    np.linspace(transducer_x_start, transducer_x_start + (nelements - 1) * element_pitch // dx[1], nelements),\n",
    "], dtype=int)\n",
    "element_positions"
   ]
  },
  {
   "cell_type": "code",
   "execution_count": null,
   "metadata": {},
   "outputs": [],
   "source": [
    "# define jwave medium\n",
    "domain = get_domain(N, dx)\n",
    "medium = get_skull_point_medium(domain, skull_array, rho0=1000, c0=1500, scatterer_radius=10, pml_size=pml[0])\n",
    "\n",
    "ext = [0, N[1]*dx[1], N[0]*dx[0], 0]\n",
    "plt.scatter(element_positions[1]*dx[1], element_positions[0]*dx[0],\n",
    "            c='r', marker='o', s=5, label='transducer element')\n",
    "plt.imshow(medium.sound_speed.params, cmap='gray', extent=ext)\n",
    "plt.colorbar(label='Speed of sound [m/s]')\n",
    "plt.xlabel('[m]')\n",
    "plt.ylabel('[m]')\n",
    "plt.legend(prop={'size': 7})\n",
    "plt.gca().invert_yaxis()\n",
    "plt.show()"
   ]
  },
  {
   "cell_type": "code",
   "execution_count": null,
   "metadata": {},
   "outputs": [],
   "source": [
    "from jwave.geometry import TimeAxis\n",
    "time_axis = TimeAxis.from_medium(medium, cfl=0.3)\n",
    "sources = get_plane_wave_excitation(domain, time_axis, transducer_magnitude, transducer_frequency, element_positions)\n",
    "\n",
    "plt.plot(sources.signals[0])\n",
    "plt.xlabel('Time point')\n",
    "plt.ylabel('Amplitude [Pa]')\n",
    "plt.show()"
   ]
  },
  {
   "cell_type": "code",
   "execution_count": null,
   "metadata": {},
   "outputs": [],
   "source": [
    "# simulate data using jwave\n",
    "pressure, data = get_data(medium, time_axis, sources, element_positions)"
   ]
  },
  {
   "cell_type": "code",
   "execution_count": null,
   "metadata": {},
   "outputs": [],
   "source": [
    "from jwave.utils import show_field\n",
    "\n",
    "t_idx = 900\n",
    "show_field(pressure[t_idx])\n",
    "plt.title(f\"Pressure field at t={time_axis.to_array()[t_idx]} seconds\")\n",
    "plt.show()"
   ]
  },
  {
   "cell_type": "code",
   "execution_count": null,
   "metadata": {},
   "outputs": [],
   "source": [
    "plt.imshow(data, aspect='auto', cmap='seismic')\n",
    "plt.xlabel('Transducer elements')\n",
    "plt.ylabel('Time point')\n",
    "plt.show()"
   ]
  },
  {
   "cell_type": "code",
   "execution_count": null,
   "metadata": {},
   "outputs": [],
   "source": []
  }
 ],
 "metadata": {
  "kernelspec": {
   "display_name": "brainhackFUS",
   "language": "python",
   "name": "python3"
  },
  "language_info": {
   "codemirror_mode": {
    "name": "ipython",
    "version": 3
   },
   "file_extension": ".py",
   "mimetype": "text/x-python",
   "name": "python",
   "nbconvert_exporter": "python",
   "pygments_lexer": "ipython3",
   "version": "3.12.2"
  }
 },
 "nbformat": 4,
 "nbformat_minor": 2
}
