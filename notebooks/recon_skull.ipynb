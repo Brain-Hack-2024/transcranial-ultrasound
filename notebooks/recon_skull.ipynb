{
 "cells": [
  {
   "cell_type": "code",
   "execution_count": null,
   "metadata": {},
   "outputs": [],
   "source": [
    "%load_ext autoreload\n",
    "%autoreload 2"
   ]
  },
  {
   "cell_type": "code",
   "execution_count": null,
   "metadata": {},
   "outputs": [],
   "source": [
    "import numpy as np\n",
    "import jax.numpy as jnp\n",
    "import matplotlib.pyplot as plt\n",
    "\n",
    "import sys\n",
    "sys.path.append('../')\n",
    "\n",
    "import jax\n",
    "from jax import jit\n",
    "from jax.lib import xla_bridge\n",
    "print(f\"Jax is using: {xla_bridge.get_backend().platform}\")"
   ]
  },
  {
   "cell_type": "markdown",
   "metadata": {},
   "source": [
    "# Simulate data"
   ]
  },
  {
   "cell_type": "code",
   "execution_count": null,
   "metadata": {},
   "outputs": [],
   "source": [
    "# define linear ultrasound transducer (P4-1)\n",
    "nelements = 64\n",
    "element_pitch = 2.95e-4 # distance between transducer elements\n",
    "transducer_extent = (nelements - 1) * element_pitch # length of the transducer [m]\n",
    "transducer_frequency = 2e6 # frequency of the transducer [Hz]\n",
    "transducer_magnitude = 1e6 # magnitude of the transducer [Pa]\n",
    "print(f\"Transducer extent: {transducer_extent:.3f} m\")"
   ]
  },
  {
   "cell_type": "code",
   "execution_count": null,
   "metadata": {},
   "outputs": [],
   "source": [
    "import pydicom\n",
    "\n",
    "# define skull slice\n",
    "skull_dicom = pydicom.dcmread(\"../data/skull_slice.dcm\")\n",
    "skull_array = skull_dicom.pixel_array.astype(np.int16)\n",
    "skull_array = skull_array[:500, 600:-600]\n",
    "skull_array = np.flipud(skull_array)\n",
    "downsampling_factor = 2\n",
    "new_shape = (skull_array.shape[0] // downsampling_factor, skull_array.shape[1] // downsampling_factor)\n",
    "skull_array = jax.image.resize(skull_array, new_shape, method='nearest').T\n",
    "plt.imshow(skull_array, cmap='gray')\n",
    "plt.gca().invert_yaxis()\n",
    "plt.show()"
   ]
  },
  {
   "cell_type": "code",
   "execution_count": null,
   "metadata": {},
   "outputs": [],
   "source": [
    "# define spatial parameters\n",
    "N = np.array(skull_array.shape).astype(int) # grid size [grid points]\n",
    "dx = np.array([9.07935931401377e-5*downsampling_factor, 9.07935931401377e-5*downsampling_factor]) # grid spacing [m]\n",
    "pml = np.array([20, 20]) # size of the perfectly matched layer [grid points]"
   ]
  },
  {
   "cell_type": "code",
   "execution_count": null,
   "metadata": {},
   "outputs": [],
   "source": [
    "# define transducer position in domain\n",
    "transducer_depth = pml[1] # depth of the transducer [grid points]\n",
    "transducer_x_start = N[0]//2 - nelements//2 # start index of the transducer in the x-direction [grid points]\n",
    "element_positions = np.array([\n",
    "    np.linspace(transducer_x_start, transducer_x_start + nelements - 1, nelements),\n",
    "    (N[1] - transducer_depth) * np.ones(nelements),\n",
    "], dtype=int)\n",
    "virtual_positions = element_positions.copy()\n",
    "virtual_positions[1] -= 80\n",
    "element_positions"
   ]
  },
  {
   "cell_type": "code",
   "execution_count": null,
   "metadata": {},
   "outputs": [],
   "source": [
    "from jwave_utils import get_domain, get_homogeneous_medium, get_skull_medium\n",
    "\n",
    "# define jwave medium\n",
    "domain = get_domain(N, dx)\n",
    "speed_homogeneous, density_homogeneous = get_homogeneous_medium(domain, background_std=0, background_seed=29)\n",
    "\n",
    "c0 = 1500 # speed of sound in water [m/s]\n",
    "scatterer_positions = np.array([[domain.N[0]//2, domain.N[1]//2]], dtype=int)\n",
    "speed_skull, density_skull = get_skull_medium(domain, skull_array, background_std=0, background_seed=29)\n",
    "speed, density = get_skull_medium(domain, skull_array, scatterer_positions, \n",
    "                          background_std = 0.000, scatterer_radius=1, scatterer_contrast=2, \n",
    "                          background_seed=28)\n",
    "\n",
    "ext = [0, N[1]*dx[1], N[0]*dx[0], 0]\n",
    "plt.scatter(element_positions[1]*dx[1], element_positions[0]*dx[0],\n",
    "            c='r', marker='o', s=5, label='transducer element')\n",
    "plt.scatter(virtual_positions[1]*dx[1], virtual_positions[0]*dx[0],\n",
    "            c='b', marker='o', s=5, label='virtual element')\n",
    "plt.imshow(speed, cmap='gray', extent=ext)\n",
    "# plt.colorbar(label='Speed of sound [m/s]')\n",
    "plt.xlabel('[m]')\n",
    "plt.ylabel('[m]')\n",
    "plt.legend(prop={'size': 7})\n",
    "plt.gca().invert_yaxis()\n",
    "plt.show()"
   ]
  },
  {
   "cell_type": "code",
   "execution_count": null,
   "metadata": {},
   "outputs": [],
   "source": [
    "from jwave.geometry import TimeAxis\n",
    "from jwave.geometry import Medium\n",
    "from jwave import FourierSeries\n",
    "from jwave_utils import get_plane_wave_excitation\n",
    "\n",
    "angle = 0\n",
    "medium = Medium(domain, FourierSeries(jnp.expand_dims(speed, -1), domain), FourierSeries(jnp.expand_dims(density, -1), domain), pml_size=pml[0])\n",
    "time_axis = TimeAxis.from_medium(medium, cfl=0.3)\n",
    "# sources = get_plane_wave_excitation(domain, time_axis, transducer_magnitude, transducer_frequency, element_positions)\n",
    "# sources, signal, carrier_signal = get_plane_wave_excitation(domain, time_axis, transducer_magnitude, transducer_frequency, dx[0], element_positions, angle=angle)\n",
    "sources, signal, carrier_signal = get_plane_wave_excitation(domain, time_axis, transducer_magnitude, transducer_frequency, dx[0], virtual_positions, angle=angle)\n",
    "\n",
    "plt.plot(sources.signals[0])\n",
    "plt.xlabel('Time point')\n",
    "plt.ylabel('Amplitude [Pa]')\n",
    "plt.show()"
   ]
  },
  {
   "cell_type": "code",
   "execution_count": null,
   "metadata": {},
   "outputs": [],
   "source": [
    "from jwave_utils import get_data\n",
    "\n",
    "# simulate data using jwave\n",
    "pressure, data = get_data(speed, density, domain, time_axis, sources, element_positions)\n",
    "_, data_homogenous = get_data(speed_homogeneous, density_homogeneous, domain, time_axis, sources, element_positions)\n",
    "pressure_skull, data_skull = get_data(speed_skull, density_skull, domain, time_axis, sources, element_positions)"
   ]
  },
  {
   "cell_type": "code",
   "execution_count": null,
   "metadata": {},
   "outputs": [],
   "source": [
    "from jwave.utils import show_field\n",
    "\n",
    "t_idx = 600\n",
    "show_field(pressure[t_idx])\n",
    "plt.title(f\"Pressure field at t={time_axis.to_array()[t_idx]} seconds\")\n",
    "plt.show()"
   ]
  },
  {
   "cell_type": "code",
   "execution_count": null,
   "metadata": {},
   "outputs": [],
   "source": [
    "plt.imshow(data, aspect='auto', cmap='seismic')\n",
    "plt.xlabel('Transducer elements')\n",
    "plt.ylabel('Time point')\n",
    "plt.show()"
   ]
  },
  {
   "cell_type": "code",
   "execution_count": null,
   "metadata": {},
   "outputs": [],
   "source": [
    "output_data = data-data_skull\n",
    "plt.imshow(output_data, aspect='auto', cmap='seismic')\n",
    "plt.xlabel('Transducer elements')\n",
    "plt.ylabel('Time point')\n",
    "plt.show()"
   ]
  },
  {
   "cell_type": "markdown",
   "metadata": {},
   "source": [
    "## Time reversal"
   ]
  },
  {
   "cell_type": "code",
   "execution_count": null,
   "metadata": {},
   "outputs": [],
   "source": [
    "time_reversed_data = jnp.squeeze(pressure_skull.params[:, element_positions[0], element_positions[1]])\n",
    "time_reversed_data = jnp.flip(time_reversed_data, axis=0)\n",
    "plt.imshow(time_reversed_data, aspect='auto', cmap='seismic')"
   ]
  },
  {
   "cell_type": "code",
   "execution_count": null,
   "metadata": {},
   "outputs": [],
   "source": [
    "from jwave.geometry import Sources\n",
    "\n",
    "time_reversed_sources = Sources(\n",
    "    positions=tuple(map(tuple, element_positions)),\n",
    "    signals=jnp.array(time_reversed_data.T),\n",
    "    dt=time_axis.dt,\n",
    "    domain=domain,\n",
    ")\n",
    "\n",
    "plt.plot(time_axis.to_array(), time_reversed_sources.signals[10])\n",
    "plt.xlabel('Time point')\n",
    "plt.ylabel('Amplitude [Pa]')\n",
    "plt.show()"
   ]
  },
  {
   "cell_type": "code",
   "execution_count": null,
   "metadata": {},
   "outputs": [],
   "source": [
    "pressure_skull_corrected, _ = get_data(speed_skull, density_skull, domain, time_axis, time_reversed_sources, element_positions)"
   ]
  },
  {
   "cell_type": "code",
   "execution_count": null,
   "metadata": {},
   "outputs": [],
   "source": [
    "from jwave.utils import show_field\n",
    "\n",
    "t_idx = 2250\n",
    "show_field(pressure_skull_corrected[t_idx])\n",
    "plt.title(f\"Pressure field at t={time_axis.to_array()[t_idx]} seconds\")\n",
    "plt.show()"
   ]
  },
  {
   "cell_type": "markdown",
   "metadata": {},
   "source": [
    "# Reconstruction"
   ]
  },
  {
   "cell_type": "code",
   "execution_count": null,
   "metadata": {},
   "outputs": [],
   "source": [
    "from kwave.utils.filters import gaussian_filter\n",
    "from kwave.reconstruction.beamform import envelope_detection\n",
    "\n",
    "def postprocess_result(orig_res):\n",
    "    result = np.copy(orig_res)\n",
    "    for i in range(result.shape[0]):\n",
    "        result[i, :] = gaussian_filter(result[i, :], 1/dx[0], transducer_frequency, 100.0)\n",
    "    for i in range(result.shape[0]):\n",
    "        result[i, :] = envelope_detection(result[i, :])\n",
    "    return np.flipud(result).T"
   ]
  },
  {
   "cell_type": "markdown",
   "metadata": {},
   "source": [
    "## Single angle"
   ]
  },
  {
   "cell_type": "code",
   "execution_count": null,
   "metadata": {},
   "outputs": [],
   "source": [
    "from beamforming_utils import get_receive_beamforming, get_receive_beamforming_medium_specific\n",
    "signal_delay = (element_pitch * np.sin(angle) / c0) / time_axis.dt \n",
    "res = get_receive_beamforming(domain, time_axis, element_positions, output_data, signal, carrier_signal, signal_delay)\n",
    "# res = get_receive_beamforming_medium_specific(domain, medium, time_axis, element_positions, output_data, signal, carrier_signal, signal_delay)"
   ]
  },
  {
   "cell_type": "code",
   "execution_count": null,
   "metadata": {},
   "outputs": [],
   "source": [
    "# bmode=postprocess_result(res)\n",
    "plt.imshow(res.T, cmap='seismic', interpolation='nearest')\n",
    "plt.colorbar()\n",
    "plt.gca().invert_yaxis()\n",
    "plt.show()"
   ]
  },
  {
   "cell_type": "code",
   "execution_count": null,
   "metadata": {},
   "outputs": [],
   "source": [
    "from imaging.demodulate import demodulate_rf_to_iq\n",
    "freq_sampling = 1/time_axis.dt\n",
    "iq_signals, freq_carrier = demodulate_rf_to_iq(output_data, freq_sampling, freq_carrier=transducer_frequency)"
   ]
  },
  {
   "cell_type": "code",
   "execution_count": null,
   "metadata": {},
   "outputs": [],
   "source": [
    "N = domain.N[0]\n",
    "Nz = N - transducer_depth\n",
    "dx0 = domain.dx[0]\n",
    "\n",
    "# Generate 1D arrays for x and z\n",
    "x = np.linspace(-(N//2)*dx0, (N//2)*dx0, N)\n",
    "z = np.linspace(0, Nz*dx0, Nz)\n",
    "\n",
    "# Create 2D meshgrid for x and z\n",
    "X, Z = np.meshgrid(x, z)"
   ]
  },
  {
   "cell_type": "code",
   "execution_count": null,
   "metadata": {},
   "outputs": [],
   "source": [
    "from imaging.beamform import beamform_delay_and_sum\n",
    "\n",
    "beamformed_signal = beamform_delay_and_sum(iq_signals, X, Z, freq_sampling, freq_carrier, pitch=dx0, tx_delays=np.zeros(nelements))"
   ]
  },
  {
   "cell_type": "code",
   "execution_count": null,
   "metadata": {},
   "outputs": [],
   "source": [
    "beamformed_signal_2 = beamformed_signal.copy()\n",
    "# beamformed_signal_2[:25, :] = 0\n",
    "\n",
    "plt.imshow(np.abs(beamformed_signal_2), cmap='seismic')\n",
    "plt.colorbar()\n",
    "plt.show()\n"
   ]
  },
  {
   "cell_type": "markdown",
   "metadata": {},
   "source": [
    "## Multiple angles"
   ]
  },
  {
   "cell_type": "code",
   "execution_count": null,
   "metadata": {},
   "outputs": [],
   "source": [
    "angles = np.linspace(- 10*np.pi/180, 10*np.pi/180, 10)\n",
    "results = []\n",
    "for angle in angles:\n",
    "    print(f\"Angle: {angle}\")\n",
    "    sources, signal, carrier_signal = get_plane_wave_excitation(domain, time_axis, transducer_magnitude, transducer_frequency, dx[0], element_positions, angle=angle)\n",
    "    _, data = get_data(speed, density, domain, time_axis, sources, element_positions)\n",
    "    _, data_skull = get_data(speed_skull, density_skull, domain, time_axis, sources, element_positions)\n",
    "    output_data = data-data_skull\n",
    "    signal_delay = (element_pitch * np.sin(angle) / c0) / time_axis.dt\n",
    "    res = get_receive_beamforming(domain, time_axis, element_positions, output_data, signal, carrier_signal, signal_delay)\n",
    "    # res = get_receive_beamforming_medium_specific(domain, medium, time_axis, element_positions, output_data, signal, carrier_signal, signal_delay)\n",
    "    results.append(res)"
   ]
  },
  {
   "cell_type": "code",
   "execution_count": null,
   "metadata": {},
   "outputs": [],
   "source": [
    "compounded_res = np.sum(results, axis=0)\n",
    "# compounded_bmode=postprocess_result(compounded_res)\n",
    "# bmodes = [postprocess_result(res) for res in results]\n",
    "# compounded_bmode = np.sum(bmodes, axis=0)\n",
    "\n",
    "plt.imshow(compounded_res.T, cmap='seismic', interpolation='nearest')\n",
    "plt.colorbar()\n",
    "plt.gca().invert_yaxis()\n",
    "plt.show()"
   ]
  },
  {
   "cell_type": "markdown",
   "metadata": {},
   "source": [
    "## Gradient"
   ]
  },
  {
   "cell_type": "code",
   "execution_count": null,
   "metadata": {},
   "outputs": [],
   "source": [
    "from jax import value_and_grad\n",
    "from jwave_utils import get_data_only\n",
    "from solver_utils import linear_loss, nonlinear_loss\n",
    "\n",
    "params = speed_skull\n",
    "\n",
    "# compute first linear gradient\n",
    "# J = jax.jacrev(get_data_only, argnums=0)(jnp.array(speed), density_homogenous, domain, time_axis, sources, element_positions)\n",
    "# linear_val_and_grad = value_and_grad(linear_loss, argnums=0)\n",
    "# linear_loss, linear_gradient = linear_val_and_grad(params, J, output_data)\n",
    "\n",
    "# compute first nonlinear gradient\n",
    "nonlinear_val_and_grad = value_and_grad(nonlinear_loss, argnums=0)\n",
    "nonlinear_loss, nonlinear_gradient = nonlinear_val_and_grad(params, data, density_skull, domain, time_axis, sources, element_positions)\n",
    "nonlinear_gradient = nonlinear_gradient.at[:, 140:].set(0) # apply mask\n",
    "print(f\"Nonlinear loss: {nonlinear_loss}\")"
   ]
  },
  {
   "cell_type": "code",
   "execution_count": null,
   "metadata": {},
   "outputs": [],
   "source": [
    "# Viualize\n",
    "plt.figure(figsize=(8, 6))\n",
    "plt.imshow(nonlinear_gradient.T, cmap='seismic')\n",
    "plt.title(\"First gradient\")\n",
    "plt.xlabel('x [gridpoints]')\n",
    "plt.ylabel('y [gridpoints]')\n",
    "plt.gca().invert_yaxis()\n",
    "plt.colorbar(shrink=0.55)\n",
    "plt.show()"
   ]
  },
  {
   "cell_type": "code",
   "execution_count": null,
   "metadata": {},
   "outputs": [],
   "source": [
    "from jax.example_libraries import optimizers\n",
    "from tqdm import tqdm\n",
    "\n",
    "losshistory = []\n",
    "reconstructions = []\n",
    "num_steps = 100\n",
    "\n",
    "# Define optimizer\n",
    "# init_fun, update_fun, get_params = optimizers.adam(1)\n",
    "init_fun, update_fun, get_params = optimizers.sgd(1)\n",
    "opt_state = init_fun(params)\n",
    "\n",
    "# Define and compile the update function\n",
    "@jit\n",
    "def update(opt_state, k):\n",
    "    v = get_params(opt_state)\n",
    "    lossval, gradient = nonlinear_val_and_grad(v, data, density_skull, domain, time_axis, sources, element_positions)\n",
    "    # gradient = smooth_fun(gradient)\n",
    "    gradient = gradient.at[:, 140:].set(0)\n",
    "    gradient = gradient / jnp.max(jnp.abs(gradient))\n",
    "    return lossval, update_fun(k, gradient, opt_state)\n",
    "\n",
    "# Main loop\n",
    "pbar = tqdm(range(num_steps))\n",
    "for k in pbar:\n",
    "    lossval, opt_state = update(opt_state, k)\n",
    "\n",
    "    ## For logging\n",
    "    new_params = get_params(opt_state)\n",
    "    reconstructions.append(new_params)\n",
    "    losshistory.append(lossval)\n",
    "    pbar.set_description(\"Loss: {}\".format(lossval))"
   ]
  },
  {
   "cell_type": "code",
   "execution_count": null,
   "metadata": {},
   "outputs": [],
   "source": [
    "plt.imshow(reconstructions[-1][:,:140].T, cmap='seismic')\n",
    "plt.gca().invert_yaxis()\n",
    "plt.show()"
   ]
  },
  {
   "cell_type": "code",
   "execution_count": null,
   "metadata": {},
   "outputs": [],
   "source": [
    "# Viualize\n",
    "plt.figure(figsize=(8, 6))\n",
    "plt.imshow(reconstructions[-1].T, cmap='seismic', vmax=1550)\n",
    "plt.xlabel('x [gridpoints]')\n",
    "plt.ylabel('y [gridpoints]')\n",
    "plt.gca().invert_yaxis()\n",
    "plt.colorbar(shrink=0.55)\n",
    "plt.show()"
   ]
  },
  {
   "cell_type": "code",
   "execution_count": null,
   "metadata": {},
   "outputs": [],
   "source": []
  }
 ],
 "metadata": {
  "kernelspec": {
   "display_name": "brainhackFUS",
   "language": "python",
   "name": "python3"
  },
  "language_info": {
   "codemirror_mode": {
    "name": "ipython",
    "version": 3
   },
   "file_extension": ".py",
   "mimetype": "text/x-python",
   "name": "python",
   "nbconvert_exporter": "python",
   "pygments_lexer": "ipython3",
   "version": "3.10.0"
  }
 },
 "nbformat": 4,
 "nbformat_minor": 2
}
