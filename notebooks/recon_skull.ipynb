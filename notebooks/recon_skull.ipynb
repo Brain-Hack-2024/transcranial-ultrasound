{
 "cells": [
  {
   "cell_type": "code",
   "execution_count": null,
   "metadata": {},
   "outputs": [],
   "source": [
    "%load_ext autoreload\n",
    "%autoreload 2"
   ]
  },
  {
   "cell_type": "code",
   "execution_count": null,
   "metadata": {},
   "outputs": [],
   "source": [
    "import numpy as np\n",
    "import jax.numpy as jnp\n",
    "import matplotlib.pyplot as plt\n",
    "\n",
    "import sys\n",
    "sys.path.append('../')\n",
    "\n",
    "import jax\n",
    "from jax import jit\n",
    "from jax.lib import xla_bridge\n",
    "print(f\"Jax is using: {xla_bridge.get_backend().platform}\")"
   ]
  },
  {
   "cell_type": "markdown",
   "metadata": {},
   "source": [
    "# Simulate data"
   ]
  },
  {
   "cell_type": "code",
   "execution_count": null,
   "metadata": {},
   "outputs": [],
   "source": [
    "# define linear ultrasound transducer (P4-1)\n",
    "nelements = 64\n",
    "element_pitch = 2.95e-4 # distance between transducer elements\n",
    "transducer_extent = (nelements - 1) * element_pitch # length of the transducer [m]\n",
    "transducer_frequency = 1e6 # frequency of the transducer [Hz]\n",
    "transducer_magnitude = 1e6 # magnitude of the transducer [Pa]\n",
    "print(f\"Transducer extent: {transducer_extent:.3f} m\")"
   ]
  },
  {
   "cell_type": "code",
   "execution_count": null,
   "metadata": {},
   "outputs": [],
   "source": [
    "import pydicom\n",
    "\n",
    "# define skull slice\n",
    "skull_dicom = pydicom.dcmread(\"../data/skull_slice.dcm\")\n",
    "skull_array = skull_dicom.pixel_array.astype(np.int16)\n",
    "skull_array = skull_array[:500, 500:-500]\n",
    "skull_array = np.flipud(skull_array)\n",
    "downsampling_factor = 2\n",
    "new_shape = (skull_array.shape[0] // downsampling_factor, skull_array.shape[1] // downsampling_factor)\n",
    "skull_array = jax.image.resize(skull_array, new_shape, method='nearest').T\n",
    "plt.imshow(skull_array, cmap='gray')\n",
    "plt.gca().invert_yaxis()\n",
    "plt.show()"
   ]
  },
  {
   "cell_type": "code",
   "execution_count": null,
   "metadata": {},
   "outputs": [],
   "source": [
    "# define spatial parameters\n",
    "N = np.array(skull_array.shape).astype(int) # grid size [grid points]\n",
    "dx = np.array([9.07935931401377e-5*downsampling_factor, 9.07935931401377e-5*downsampling_factor]) # grid spacing [m]\n",
    "pml = np.array([20, 20]) # size of the perfectly matched layer [grid points]"
   ]
  },
  {
   "cell_type": "code",
   "execution_count": null,
   "metadata": {},
   "outputs": [],
   "source": [
    "# define transducer position in domain\n",
    "transducer_depth = pml[1] # depth of the transducer [grid points]\n",
    "transducer_x_start = N[0]//2 - nelements//2 # start index of the transducer in the x-direction [grid points]\n",
    "element_positions = np.array([\n",
    "    np.linspace(transducer_x_start, transducer_x_start + nelements - 1, nelements),\n",
    "    (N[1] - transducer_depth) * np.ones(nelements),\n",
    "], dtype=int)\n",
    "element_positions"
   ]
  },
  {
   "cell_type": "code",
   "execution_count": null,
   "metadata": {},
   "outputs": [],
   "source": [
    "from jwave_utils import get_domain, get_homogeneous_medium, get_skull_medium\n",
    "\n",
    "# define jwave medium\n",
    "domain = get_domain(N, dx)\n",
    "medium_homogenous = get_homogeneous_medium(domain, background_std=0, background_seed=29)\n",
    "\n",
    "scatterer_positions = np.array([[domain.N[0]//2, domain.N[1]//2]], dtype=int)\n",
    "medium_skull = get_skull_medium(domain, skull_array, background_std=0, background_seed=29)\n",
    "medium = get_skull_medium(domain, skull_array, scatterer_positions, \n",
    "                          background_std = 0.004, scatterer_radius=3, scatterer_contrast=1.7, \n",
    "                          background_seed=28)\n",
    "\n",
    "ext = [0, N[1]*dx[1], N[0]*dx[0], 0]\n",
    "plt.scatter(element_positions[1]*dx[1], element_positions[0]*dx[0],\n",
    "            c='r', marker='o', s=5, label='transducer element')\n",
    "plt.imshow(medium.sound_speed.params, cmap='gray', extent=ext)\n",
    "# plt.colorbar(label='Speed of sound [m/s]')\n",
    "plt.xlabel('[m]')\n",
    "plt.ylabel('[m]')\n",
    "plt.legend(prop={'size': 7})\n",
    "plt.gca().invert_yaxis()\n",
    "plt.show()"
   ]
  },
  {
   "cell_type": "code",
   "execution_count": null,
   "metadata": {},
   "outputs": [],
   "source": [
    "from jwave.geometry import TimeAxis\n",
    "from jwave_utils import get_plane_wave_excitation\n",
    "\n",
    "signal_delay = 0\n",
    "time_axis = TimeAxis.from_medium(medium, cfl=0.3)\n",
    "# sources = get_plane_wave_excitation(domain, time_axis, transducer_magnitude, transducer_frequency, element_positions)\n",
    "sources, signal, carrier_signal = get_plane_wave_excitation(domain, time_axis, transducer_magnitude, transducer_frequency, element_positions, signal_delay=signal_delay)\n",
    "\n",
    "\n",
    "plt.plot(sources.signals[0])\n",
    "plt.xlabel('Time point')\n",
    "plt.ylabel('Amplitude [Pa]')\n",
    "plt.show()"
   ]
  },
  {
   "cell_type": "code",
   "execution_count": null,
   "metadata": {},
   "outputs": [],
   "source": [
    "from jwave_utils import get_data\n",
    "\n",
    "# simulate data using jwave\n",
    "pressure, data = get_data(medium, time_axis, sources, element_positions)\n",
    "_, data_homogenous = get_data(medium_homogenous, time_axis, sources, element_positions)\n",
    "_, data_skull = get_data(medium_skull, time_axis, sources, element_positions)"
   ]
  },
  {
   "cell_type": "code",
   "execution_count": null,
   "metadata": {},
   "outputs": [],
   "source": [
    "from jwave.utils import show_field\n",
    "\n",
    "t_idx = 900\n",
    "show_field(pressure[t_idx])\n",
    "plt.title(f\"Pressure field at t={time_axis.to_array()[t_idx]} seconds\")\n",
    "plt.show()"
   ]
  },
  {
   "cell_type": "code",
   "execution_count": null,
   "metadata": {},
   "outputs": [],
   "source": [
    "plt.imshow(data, aspect='auto', cmap='seismic')\n",
    "plt.xlabel('Transducer elements')\n",
    "plt.ylabel('Time point')\n",
    "plt.show()"
   ]
  },
  {
   "cell_type": "code",
   "execution_count": null,
   "metadata": {},
   "outputs": [],
   "source": [
    "output_data = data-data_skull\n",
    "plt.imshow(output_data, aspect='auto', cmap='seismic')\n",
    "plt.xlabel('Transducer elements')\n",
    "plt.ylabel('Time point')\n",
    "plt.show()"
   ]
  },
  {
   "cell_type": "markdown",
   "metadata": {},
   "source": [
    "# Reconstruction"
   ]
  },
  {
   "cell_type": "markdown",
   "metadata": {},
   "source": [
    "## Single angle"
   ]
  },
  {
   "cell_type": "code",
   "execution_count": null,
   "metadata": {},
   "outputs": [],
   "source": [
    "from beamforming_utils import get_receive_beamforming\n",
    "res = get_receive_beamforming(domain, time_axis, element_positions, output_data, signal, carrier_signal, signal_delay)"
   ]
  },
  {
   "cell_type": "code",
   "execution_count": null,
   "metadata": {},
   "outputs": [],
   "source": [
    "from kwave.utils.filters import gaussian_filter\n",
    "from kwave.reconstruction.beamform import envelope_detection\n",
    "\n",
    "def postprocess_result(orig_res):\n",
    "    result = np.copy(orig_res)\n",
    "    for i in range(result.shape[0]):\n",
    "        result[i, :] = gaussian_filter(result[i, :], 1/dx[0], transducer_frequency, 100.0)\n",
    "    for i in range(result.shape[0]):\n",
    "        result[i, :] = envelope_detection(result[i, :])\n",
    "    return np.flipud(result).T\n",
    "\n",
    "bmode=postprocess_result(res)\n",
    "plt.imshow(bmode, cmap='seismic', interpolation='nearest')\n",
    "plt.colorbar()\n",
    "plt.gca().invert_yaxis()\n",
    "plt.show()"
   ]
  },
  {
   "cell_type": "markdown",
   "metadata": {},
   "source": [
    "## Multiple angles"
   ]
  },
  {
   "cell_type": "code",
   "execution_count": null,
   "metadata": {},
   "outputs": [],
   "source": [
    "signal_delays = np.linspace(-1, 1, 10)\n",
    "results = []\n",
    "for signal_delay in signal_delays:\n",
    "    print(f\"Signal delay: {signal_delay}\")\n",
    "    sources, signal, carrier_signal = get_plane_wave_excitation(domain, time_axis, transducer_magnitude, transducer_frequency, element_positions, signal_delay=signal_delay)\n",
    "    _, data = get_data(medium, time_axis, sources, element_positions)\n",
    "    _, data_homogenous = get_data(medium_homogenous, time_axis, sources, element_positions)\n",
    "    output_data = data-data_homogenous\n",
    "    res = get_receive_beamforming(domain, time_axis, element_positions, output_data, signal, carrier_signal, signal_delay)\n",
    "    results.append(res)"
   ]
  },
  {
   "cell_type": "code",
   "execution_count": null,
   "metadata": {},
   "outputs": [],
   "source": [
    "compounded_res = np.sum(results, axis=0)\n",
    "compounded_bmode=postprocess_result(compounded_res)\n",
    "# bmodes = [postprocess_result(res) for res in results]\n",
    "# compounded_bmode = np.sum(bmodes, axis=0)\n",
    "\n",
    "plt.imshow(compounded_bmode, cmap='seismic', interpolation='nearest')\n",
    "plt.colorbar()\n",
    "plt.gca().invert_yaxis()\n",
    "plt.show()"
   ]
  }
 ],
 "metadata": {
  "kernelspec": {
   "display_name": "brainhackFUS",
   "language": "python",
   "name": "python3"
  },
  "language_info": {
   "codemirror_mode": {
    "name": "ipython",
    "version": 3
   },
   "file_extension": ".py",
   "mimetype": "text/x-python",
   "name": "python",
   "nbconvert_exporter": "python",
   "pygments_lexer": "ipython3",
   "version": "3.10.12"
  }
 },
 "nbformat": 4,
 "nbformat_minor": 2
}
